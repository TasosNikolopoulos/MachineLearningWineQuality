{
 "cells": [
  {
   "cell_type": "markdown",
   "metadata": {},
   "source": [
    "### Importing the libraries that will be used\n",
    "\n",
    "• `numpy` : is an open source Python library that's used in science and engineering fields. With this library you can work with numerical data in Python.<br>\n",
    "• `pandas` : is a Python library used for data analysis.<br>\n",
    "• `matplotlib` : is a library for creating static, animated, and interactive visualizations in Python.<br>\n",
    "• `seaborn` : is a Python data visualization library based on matplotlib.<br>"
   ]
  },
  {
   "cell_type": "code",
   "execution_count": 2,
   "metadata": {},
   "outputs": [],
   "source": [
    "import numpy as np\n",
    "import pandas as pd\n",
    "import matplotlib.pyplot as plt\n",
    "import seaborn as sns"
   ]
  },
  {
   "cell_type": "markdown",
   "metadata": {},
   "source": [
    "### Creating the column names & Importing the dataset from the .csv files that are seperated with ';'"
   ]
  },
  {
   "cell_type": "code",
   "execution_count": 23,
   "metadata": {},
   "outputs": [],
   "source": [
    "labels=('fixed_acidity', 'volatile_acidity', 'citric_acid', 'residual_sugar', 'chlorides'\\\n",
    "       , 'free_sulfur-dioxide', 'total_sulfur_dioxide', 'density', 'pH', 'sulphates', 'alcohol', 'quality')\n",
    "\n",
    "df_red=pd.read_csv('winequality-red.csv', header=0, names=labels, sep=';')\n",
    "df_white=pd.read_csv('winequality-white.csv', header=0, names=labels, sep=';')"
   ]
  },
  {
   "cell_type": "markdown",
   "metadata": {},
   "source": [
    "### Display the dataset of the red wine's and then the white wine's characteristics"
   ]
  },
  {
   "cell_type": "code",
   "execution_count": 24,
   "metadata": {},
   "outputs": [
    {
     "data": {
      "text/html": [
       "<div>\n",
       "<style scoped>\n",
       "    .dataframe tbody tr th:only-of-type {\n",
       "        vertical-align: middle;\n",
       "    }\n",
       "\n",
       "    .dataframe tbody tr th {\n",
       "        vertical-align: top;\n",
       "    }\n",
       "\n",
       "    .dataframe thead th {\n",
       "        text-align: right;\n",
       "    }\n",
       "</style>\n",
       "<table border=\"1\" class=\"dataframe\">\n",
       "  <thead>\n",
       "    <tr style=\"text-align: right;\">\n",
       "      <th></th>\n",
       "      <th>fixed_acidity</th>\n",
       "      <th>volatile_acidity</th>\n",
       "      <th>citric_acid</th>\n",
       "      <th>residual_sugar</th>\n",
       "      <th>chlorides</th>\n",
       "      <th>free_sulfur-dioxide</th>\n",
       "      <th>total_sulfur_dioxide</th>\n",
       "      <th>density</th>\n",
       "      <th>pH</th>\n",
       "      <th>sulphates</th>\n",
       "      <th>alcohol</th>\n",
       "      <th>quality</th>\n",
       "    </tr>\n",
       "  </thead>\n",
       "  <tbody>\n",
       "    <tr>\n",
       "      <th>0</th>\n",
       "      <td>7.4</td>\n",
       "      <td>0.70</td>\n",
       "      <td>0.00</td>\n",
       "      <td>1.9</td>\n",
       "      <td>0.076</td>\n",
       "      <td>11.0</td>\n",
       "      <td>34.0</td>\n",
       "      <td>0.9978</td>\n",
       "      <td>3.51</td>\n",
       "      <td>0.56</td>\n",
       "      <td>9.4</td>\n",
       "      <td>5</td>\n",
       "    </tr>\n",
       "    <tr>\n",
       "      <th>1</th>\n",
       "      <td>7.8</td>\n",
       "      <td>0.88</td>\n",
       "      <td>0.00</td>\n",
       "      <td>2.6</td>\n",
       "      <td>0.098</td>\n",
       "      <td>25.0</td>\n",
       "      <td>67.0</td>\n",
       "      <td>0.9968</td>\n",
       "      <td>3.20</td>\n",
       "      <td>0.68</td>\n",
       "      <td>9.8</td>\n",
       "      <td>5</td>\n",
       "    </tr>\n",
       "    <tr>\n",
       "      <th>2</th>\n",
       "      <td>7.8</td>\n",
       "      <td>0.76</td>\n",
       "      <td>0.04</td>\n",
       "      <td>2.3</td>\n",
       "      <td>0.092</td>\n",
       "      <td>15.0</td>\n",
       "      <td>54.0</td>\n",
       "      <td>0.9970</td>\n",
       "      <td>3.26</td>\n",
       "      <td>0.65</td>\n",
       "      <td>9.8</td>\n",
       "      <td>5</td>\n",
       "    </tr>\n",
       "    <tr>\n",
       "      <th>3</th>\n",
       "      <td>11.2</td>\n",
       "      <td>0.28</td>\n",
       "      <td>0.56</td>\n",
       "      <td>1.9</td>\n",
       "      <td>0.075</td>\n",
       "      <td>17.0</td>\n",
       "      <td>60.0</td>\n",
       "      <td>0.9980</td>\n",
       "      <td>3.16</td>\n",
       "      <td>0.58</td>\n",
       "      <td>9.8</td>\n",
       "      <td>6</td>\n",
       "    </tr>\n",
       "    <tr>\n",
       "      <th>4</th>\n",
       "      <td>7.4</td>\n",
       "      <td>0.70</td>\n",
       "      <td>0.00</td>\n",
       "      <td>1.9</td>\n",
       "      <td>0.076</td>\n",
       "      <td>11.0</td>\n",
       "      <td>34.0</td>\n",
       "      <td>0.9978</td>\n",
       "      <td>3.51</td>\n",
       "      <td>0.56</td>\n",
       "      <td>9.4</td>\n",
       "      <td>5</td>\n",
       "    </tr>\n",
       "  </tbody>\n",
       "</table>\n",
       "</div>"
      ],
      "text/plain": [
       "   fixed_acidity  volatile_acidity  citric_acid  residual_sugar  chlorides  \\\n",
       "0            7.4              0.70         0.00             1.9      0.076   \n",
       "1            7.8              0.88         0.00             2.6      0.098   \n",
       "2            7.8              0.76         0.04             2.3      0.092   \n",
       "3           11.2              0.28         0.56             1.9      0.075   \n",
       "4            7.4              0.70         0.00             1.9      0.076   \n",
       "\n",
       "   free_sulfur-dioxide  total_sulfur_dioxide  density    pH  sulphates  \\\n",
       "0                 11.0                  34.0   0.9978  3.51       0.56   \n",
       "1                 25.0                  67.0   0.9968  3.20       0.68   \n",
       "2                 15.0                  54.0   0.9970  3.26       0.65   \n",
       "3                 17.0                  60.0   0.9980  3.16       0.58   \n",
       "4                 11.0                  34.0   0.9978  3.51       0.56   \n",
       "\n",
       "   alcohol  quality  \n",
       "0      9.4        5  \n",
       "1      9.8        5  \n",
       "2      9.8        5  \n",
       "3      9.8        6  \n",
       "4      9.4        5  "
      ]
     },
     "execution_count": 24,
     "metadata": {},
     "output_type": "execute_result"
    }
   ],
   "source": [
    "df_red.head()"
   ]
  },
  {
   "cell_type": "code",
   "execution_count": 25,
   "metadata": {},
   "outputs": [
    {
     "data": {
      "text/html": [
       "<div>\n",
       "<style scoped>\n",
       "    .dataframe tbody tr th:only-of-type {\n",
       "        vertical-align: middle;\n",
       "    }\n",
       "\n",
       "    .dataframe tbody tr th {\n",
       "        vertical-align: top;\n",
       "    }\n",
       "\n",
       "    .dataframe thead th {\n",
       "        text-align: right;\n",
       "    }\n",
       "</style>\n",
       "<table border=\"1\" class=\"dataframe\">\n",
       "  <thead>\n",
       "    <tr style=\"text-align: right;\">\n",
       "      <th></th>\n",
       "      <th>fixed_acidity</th>\n",
       "      <th>volatile_acidity</th>\n",
       "      <th>citric_acid</th>\n",
       "      <th>residual_sugar</th>\n",
       "      <th>chlorides</th>\n",
       "      <th>free_sulfur-dioxide</th>\n",
       "      <th>total_sulfur_dioxide</th>\n",
       "      <th>density</th>\n",
       "      <th>pH</th>\n",
       "      <th>sulphates</th>\n",
       "      <th>alcohol</th>\n",
       "      <th>quality</th>\n",
       "    </tr>\n",
       "  </thead>\n",
       "  <tbody>\n",
       "    <tr>\n",
       "      <th>0</th>\n",
       "      <td>7.0</td>\n",
       "      <td>0.27</td>\n",
       "      <td>0.36</td>\n",
       "      <td>20.7</td>\n",
       "      <td>0.045</td>\n",
       "      <td>45.0</td>\n",
       "      <td>170.0</td>\n",
       "      <td>1.0010</td>\n",
       "      <td>3.00</td>\n",
       "      <td>0.45</td>\n",
       "      <td>8.8</td>\n",
       "      <td>6</td>\n",
       "    </tr>\n",
       "    <tr>\n",
       "      <th>1</th>\n",
       "      <td>6.3</td>\n",
       "      <td>0.30</td>\n",
       "      <td>0.34</td>\n",
       "      <td>1.6</td>\n",
       "      <td>0.049</td>\n",
       "      <td>14.0</td>\n",
       "      <td>132.0</td>\n",
       "      <td>0.9940</td>\n",
       "      <td>3.30</td>\n",
       "      <td>0.49</td>\n",
       "      <td>9.5</td>\n",
       "      <td>6</td>\n",
       "    </tr>\n",
       "    <tr>\n",
       "      <th>2</th>\n",
       "      <td>8.1</td>\n",
       "      <td>0.28</td>\n",
       "      <td>0.40</td>\n",
       "      <td>6.9</td>\n",
       "      <td>0.050</td>\n",
       "      <td>30.0</td>\n",
       "      <td>97.0</td>\n",
       "      <td>0.9951</td>\n",
       "      <td>3.26</td>\n",
       "      <td>0.44</td>\n",
       "      <td>10.1</td>\n",
       "      <td>6</td>\n",
       "    </tr>\n",
       "    <tr>\n",
       "      <th>3</th>\n",
       "      <td>7.2</td>\n",
       "      <td>0.23</td>\n",
       "      <td>0.32</td>\n",
       "      <td>8.5</td>\n",
       "      <td>0.058</td>\n",
       "      <td>47.0</td>\n",
       "      <td>186.0</td>\n",
       "      <td>0.9956</td>\n",
       "      <td>3.19</td>\n",
       "      <td>0.40</td>\n",
       "      <td>9.9</td>\n",
       "      <td>6</td>\n",
       "    </tr>\n",
       "    <tr>\n",
       "      <th>4</th>\n",
       "      <td>7.2</td>\n",
       "      <td>0.23</td>\n",
       "      <td>0.32</td>\n",
       "      <td>8.5</td>\n",
       "      <td>0.058</td>\n",
       "      <td>47.0</td>\n",
       "      <td>186.0</td>\n",
       "      <td>0.9956</td>\n",
       "      <td>3.19</td>\n",
       "      <td>0.40</td>\n",
       "      <td>9.9</td>\n",
       "      <td>6</td>\n",
       "    </tr>\n",
       "  </tbody>\n",
       "</table>\n",
       "</div>"
      ],
      "text/plain": [
       "   fixed_acidity  volatile_acidity  citric_acid  residual_sugar  chlorides  \\\n",
       "0            7.0              0.27         0.36            20.7      0.045   \n",
       "1            6.3              0.30         0.34             1.6      0.049   \n",
       "2            8.1              0.28         0.40             6.9      0.050   \n",
       "3            7.2              0.23         0.32             8.5      0.058   \n",
       "4            7.2              0.23         0.32             8.5      0.058   \n",
       "\n",
       "   free_sulfur-dioxide  total_sulfur_dioxide  density    pH  sulphates  \\\n",
       "0                 45.0                 170.0   1.0010  3.00       0.45   \n",
       "1                 14.0                 132.0   0.9940  3.30       0.49   \n",
       "2                 30.0                  97.0   0.9951  3.26       0.44   \n",
       "3                 47.0                 186.0   0.9956  3.19       0.40   \n",
       "4                 47.0                 186.0   0.9956  3.19       0.40   \n",
       "\n",
       "   alcohol  quality  \n",
       "0      8.8        6  \n",
       "1      9.5        6  \n",
       "2     10.1        6  \n",
       "3      9.9        6  \n",
       "4      9.9        6  "
      ]
     },
     "execution_count": 25,
     "metadata": {},
     "output_type": "execute_result"
    }
   ],
   "source": [
    "df_white.head()"
   ]
  },
  {
   "cell_type": "markdown",
   "metadata": {},
   "source": [
    "### Dataset Info for both red wine dataframe & white wine dataframe\n",
    "\n",
    "• For each column there are information about the values that are Non-Null, and the type of the values. <br>\n",
    "• Then are presented the different data types and the memory usage."
   ]
  },
  {
   "cell_type": "code",
   "execution_count": 26,
   "metadata": {},
   "outputs": [
    {
     "name": "stdout",
     "output_type": "stream",
     "text": [
      "<class 'pandas.core.frame.DataFrame'>\n",
      "RangeIndex: 1599 entries, 0 to 1598\n",
      "Data columns (total 12 columns):\n",
      " #   Column                Non-Null Count  Dtype  \n",
      "---  ------                --------------  -----  \n",
      " 0   fixed_acidity         1599 non-null   float64\n",
      " 1   volatile_acidity      1599 non-null   float64\n",
      " 2   citric_acid           1599 non-null   float64\n",
      " 3   residual_sugar        1599 non-null   float64\n",
      " 4   chlorides             1599 non-null   float64\n",
      " 5   free_sulfur-dioxide   1599 non-null   float64\n",
      " 6   total_sulfur_dioxide  1599 non-null   float64\n",
      " 7   density               1599 non-null   float64\n",
      " 8   pH                    1599 non-null   float64\n",
      " 9   sulphates             1599 non-null   float64\n",
      " 10  alcohol               1599 non-null   float64\n",
      " 11  quality               1599 non-null   int64  \n",
      "dtypes: float64(11), int64(1)\n",
      "memory usage: 150.0 KB\n"
     ]
    }
   ],
   "source": [
    "df_red.info()"
   ]
  },
  {
   "cell_type": "code",
   "execution_count": 27,
   "metadata": {},
   "outputs": [
    {
     "name": "stdout",
     "output_type": "stream",
     "text": [
      "<class 'pandas.core.frame.DataFrame'>\n",
      "RangeIndex: 4898 entries, 0 to 4897\n",
      "Data columns (total 12 columns):\n",
      " #   Column                Non-Null Count  Dtype  \n",
      "---  ------                --------------  -----  \n",
      " 0   fixed_acidity         4898 non-null   float64\n",
      " 1   volatile_acidity      4898 non-null   float64\n",
      " 2   citric_acid           4898 non-null   float64\n",
      " 3   residual_sugar        4898 non-null   float64\n",
      " 4   chlorides             4898 non-null   float64\n",
      " 5   free_sulfur-dioxide   4898 non-null   float64\n",
      " 6   total_sulfur_dioxide  4898 non-null   float64\n",
      " 7   density               4898 non-null   float64\n",
      " 8   pH                    4898 non-null   float64\n",
      " 9   sulphates             4898 non-null   float64\n",
      " 10  alcohol               4898 non-null   float64\n",
      " 11  quality               4898 non-null   int64  \n",
      "dtypes: float64(11), int64(1)\n",
      "memory usage: 459.3 KB\n"
     ]
    }
   ],
   "source": [
    "df_white.info()"
   ]
  },
  {
   "cell_type": "markdown",
   "metadata": {},
   "source": [
    "### Original Shape of each dataframe -> (rows, columns)"
   ]
  },
  {
   "cell_type": "code",
   "execution_count": 28,
   "metadata": {},
   "outputs": [
    {
     "data": {
      "text/plain": [
       "(1599, 12)"
      ]
     },
     "execution_count": 28,
     "metadata": {},
     "output_type": "execute_result"
    }
   ],
   "source": [
    "df_red.shape"
   ]
  },
  {
   "cell_type": "code",
   "execution_count": 29,
   "metadata": {},
   "outputs": [
    {
     "data": {
      "text/plain": [
       "(4898, 12)"
      ]
     },
     "execution_count": 29,
     "metadata": {},
     "output_type": "execute_result"
    }
   ],
   "source": [
    "df_white.shape"
   ]
  },
  {
   "cell_type": "markdown",
   "metadata": {},
   "source": [
    "### Dropping the Duplicate Values of each dataframe seperately"
   ]
  },
  {
   "cell_type": "code",
   "execution_count": 30,
   "metadata": {},
   "outputs": [
    {
     "name": "stdout",
     "output_type": "stream",
     "text": [
      "Red Wine:-\n",
      "Total Duplicate Values (Before): 240\n",
      "Total Duplicate Values (After): 0\n"
     ]
    }
   ],
   "source": [
    "print('Red Wine:-')\n",
    "print('Total Duplicate Values (Before):', sum(df_red.duplicated()))\n",
    "\n",
    "df_red.drop_duplicates(inplace=True)\n",
    "print('Total Duplicate Values (After):', sum(df_red.duplicated()))"
   ]
  },
  {
   "cell_type": "code",
   "execution_count": 31,
   "metadata": {},
   "outputs": [
    {
     "name": "stdout",
     "output_type": "stream",
     "text": [
      "White Wine:-\n",
      "Total Duplicate Values (Before): 937\n",
      "Total Duplicate Values (After): 0\n"
     ]
    }
   ],
   "source": [
    "print('White Wine:-')\n",
    "print('Total Duplicate Values (Before):', sum(df_white.duplicated()))\n",
    "\n",
    "df_white.drop_duplicates(inplace=True)\n",
    "print('Total Duplicate Values (After):', sum(df_white.duplicated()))"
   ]
  },
  {
   "cell_type": "markdown",
   "metadata": {},
   "source": [
    "### New Shape, after dropping the duplicate values"
   ]
  },
  {
   "cell_type": "code",
   "execution_count": 32,
   "metadata": {},
   "outputs": [
    {
     "data": {
      "text/plain": [
       "(1359, 12)"
      ]
     },
     "execution_count": 32,
     "metadata": {},
     "output_type": "execute_result"
    }
   ],
   "source": [
    "df_red.shape"
   ]
  },
  {
   "cell_type": "code",
   "execution_count": 33,
   "metadata": {},
   "outputs": [
    {
     "data": {
      "text/plain": [
       "(3961, 12)"
      ]
     },
     "execution_count": 33,
     "metadata": {},
     "output_type": "execute_result"
    }
   ],
   "source": [
    "df_white.shape"
   ]
  },
  {
   "cell_type": "markdown",
   "metadata": {},
   "source": [
    "### Unique values from each dataframe column"
   ]
  },
  {
   "cell_type": "code",
   "execution_count": 34,
   "metadata": {},
   "outputs": [
    {
     "data": {
      "text/plain": [
       "fixed_acidity            96\n",
       "volatile_acidity        143\n",
       "citric_acid              80\n",
       "residual_sugar           91\n",
       "chlorides               153\n",
       "free_sulfur-dioxide      60\n",
       "total_sulfur_dioxide    144\n",
       "density                 436\n",
       "pH                       89\n",
       "sulphates                96\n",
       "alcohol                  65\n",
       "quality                   6\n",
       "dtype: int64"
      ]
     },
     "execution_count": 34,
     "metadata": {},
     "output_type": "execute_result"
    }
   ],
   "source": [
    "df_red.nunique()"
   ]
  },
  {
   "cell_type": "code",
   "execution_count": 35,
   "metadata": {},
   "outputs": [
    {
     "data": {
      "text/plain": [
       "fixed_acidity            68\n",
       "volatile_acidity        125\n",
       "citric_acid              87\n",
       "residual_sugar          310\n",
       "chlorides               160\n",
       "free_sulfur-dioxide     132\n",
       "total_sulfur_dioxide    251\n",
       "density                 890\n",
       "pH                      103\n",
       "sulphates                79\n",
       "alcohol                 103\n",
       "quality                   7\n",
       "dtype: int64"
      ]
     },
     "execution_count": 35,
     "metadata": {},
     "output_type": "execute_result"
    }
   ],
   "source": [
    "df_white.nunique()"
   ]
  },
  {
   "cell_type": "markdown",
   "metadata": {},
   "source": [
    "### Dataset Description, using df.describe()\n",
    "\n",
    "`df.describe()` : is a method that returns a description from the data of the dataframe such as : <br>\n",
    "• count (number of non-empty values)<br>\n",
    "• mean (average values)<br>\n",
    "• std (standard deviation)<br>\n",
    "• min (minimum value)<br>\n",
    "• 25% (25% percentile)<br>\n",
    "• 50% (50% percentile)<br>\n",
    "• 75% (75% percentile)<br>\n",
    "• max (maximum value)"
   ]
  },
  {
   "cell_type": "code",
   "execution_count": 37,
   "metadata": {},
   "outputs": [
    {
     "data": {
      "text/html": [
       "<div>\n",
       "<style scoped>\n",
       "    .dataframe tbody tr th:only-of-type {\n",
       "        vertical-align: middle;\n",
       "    }\n",
       "\n",
       "    .dataframe tbody tr th {\n",
       "        vertical-align: top;\n",
       "    }\n",
       "\n",
       "    .dataframe thead th {\n",
       "        text-align: right;\n",
       "    }\n",
       "</style>\n",
       "<table border=\"1\" class=\"dataframe\">\n",
       "  <thead>\n",
       "    <tr style=\"text-align: right;\">\n",
       "      <th></th>\n",
       "      <th>fixed_acidity</th>\n",
       "      <th>volatile_acidity</th>\n",
       "      <th>citric_acid</th>\n",
       "      <th>residual_sugar</th>\n",
       "      <th>chlorides</th>\n",
       "      <th>free_sulfur-dioxide</th>\n",
       "      <th>total_sulfur_dioxide</th>\n",
       "      <th>density</th>\n",
       "      <th>pH</th>\n",
       "      <th>sulphates</th>\n",
       "      <th>alcohol</th>\n",
       "      <th>quality</th>\n",
       "    </tr>\n",
       "  </thead>\n",
       "  <tbody>\n",
       "    <tr>\n",
       "      <th>count</th>\n",
       "      <td>1359.000000</td>\n",
       "      <td>1359.000000</td>\n",
       "      <td>1359.000000</td>\n",
       "      <td>1359.000000</td>\n",
       "      <td>1359.000000</td>\n",
       "      <td>1359.000000</td>\n",
       "      <td>1359.000000</td>\n",
       "      <td>1359.000000</td>\n",
       "      <td>1359.000000</td>\n",
       "      <td>1359.000000</td>\n",
       "      <td>1359.000000</td>\n",
       "      <td>1359.000000</td>\n",
       "    </tr>\n",
       "    <tr>\n",
       "      <th>mean</th>\n",
       "      <td>8.310596</td>\n",
       "      <td>0.529478</td>\n",
       "      <td>0.272333</td>\n",
       "      <td>2.523400</td>\n",
       "      <td>0.088124</td>\n",
       "      <td>15.893304</td>\n",
       "      <td>46.825975</td>\n",
       "      <td>0.996709</td>\n",
       "      <td>3.309787</td>\n",
       "      <td>0.658705</td>\n",
       "      <td>10.432315</td>\n",
       "      <td>5.623252</td>\n",
       "    </tr>\n",
       "    <tr>\n",
       "      <th>std</th>\n",
       "      <td>1.736990</td>\n",
       "      <td>0.183031</td>\n",
       "      <td>0.195537</td>\n",
       "      <td>1.352314</td>\n",
       "      <td>0.049377</td>\n",
       "      <td>10.447270</td>\n",
       "      <td>33.408946</td>\n",
       "      <td>0.001869</td>\n",
       "      <td>0.155036</td>\n",
       "      <td>0.170667</td>\n",
       "      <td>1.082065</td>\n",
       "      <td>0.823578</td>\n",
       "    </tr>\n",
       "    <tr>\n",
       "      <th>min</th>\n",
       "      <td>4.600000</td>\n",
       "      <td>0.120000</td>\n",
       "      <td>0.000000</td>\n",
       "      <td>0.900000</td>\n",
       "      <td>0.012000</td>\n",
       "      <td>1.000000</td>\n",
       "      <td>6.000000</td>\n",
       "      <td>0.990070</td>\n",
       "      <td>2.740000</td>\n",
       "      <td>0.330000</td>\n",
       "      <td>8.400000</td>\n",
       "      <td>3.000000</td>\n",
       "    </tr>\n",
       "    <tr>\n",
       "      <th>25%</th>\n",
       "      <td>7.100000</td>\n",
       "      <td>0.390000</td>\n",
       "      <td>0.090000</td>\n",
       "      <td>1.900000</td>\n",
       "      <td>0.070000</td>\n",
       "      <td>7.000000</td>\n",
       "      <td>22.000000</td>\n",
       "      <td>0.995600</td>\n",
       "      <td>3.210000</td>\n",
       "      <td>0.550000</td>\n",
       "      <td>9.500000</td>\n",
       "      <td>5.000000</td>\n",
       "    </tr>\n",
       "    <tr>\n",
       "      <th>50%</th>\n",
       "      <td>7.900000</td>\n",
       "      <td>0.520000</td>\n",
       "      <td>0.260000</td>\n",
       "      <td>2.200000</td>\n",
       "      <td>0.079000</td>\n",
       "      <td>14.000000</td>\n",
       "      <td>38.000000</td>\n",
       "      <td>0.996700</td>\n",
       "      <td>3.310000</td>\n",
       "      <td>0.620000</td>\n",
       "      <td>10.200000</td>\n",
       "      <td>6.000000</td>\n",
       "    </tr>\n",
       "    <tr>\n",
       "      <th>75%</th>\n",
       "      <td>9.200000</td>\n",
       "      <td>0.640000</td>\n",
       "      <td>0.430000</td>\n",
       "      <td>2.600000</td>\n",
       "      <td>0.091000</td>\n",
       "      <td>21.000000</td>\n",
       "      <td>63.000000</td>\n",
       "      <td>0.997820</td>\n",
       "      <td>3.400000</td>\n",
       "      <td>0.730000</td>\n",
       "      <td>11.100000</td>\n",
       "      <td>6.000000</td>\n",
       "    </tr>\n",
       "    <tr>\n",
       "      <th>max</th>\n",
       "      <td>15.900000</td>\n",
       "      <td>1.580000</td>\n",
       "      <td>1.000000</td>\n",
       "      <td>15.500000</td>\n",
       "      <td>0.611000</td>\n",
       "      <td>72.000000</td>\n",
       "      <td>289.000000</td>\n",
       "      <td>1.003690</td>\n",
       "      <td>4.010000</td>\n",
       "      <td>2.000000</td>\n",
       "      <td>14.900000</td>\n",
       "      <td>8.000000</td>\n",
       "    </tr>\n",
       "  </tbody>\n",
       "</table>\n",
       "</div>"
      ],
      "text/plain": [
       "       fixed_acidity  volatile_acidity  citric_acid  residual_sugar  \\\n",
       "count    1359.000000       1359.000000  1359.000000     1359.000000   \n",
       "mean        8.310596          0.529478     0.272333        2.523400   \n",
       "std         1.736990          0.183031     0.195537        1.352314   \n",
       "min         4.600000          0.120000     0.000000        0.900000   \n",
       "25%         7.100000          0.390000     0.090000        1.900000   \n",
       "50%         7.900000          0.520000     0.260000        2.200000   \n",
       "75%         9.200000          0.640000     0.430000        2.600000   \n",
       "max        15.900000          1.580000     1.000000       15.500000   \n",
       "\n",
       "         chlorides  free_sulfur-dioxide  total_sulfur_dioxide      density  \\\n",
       "count  1359.000000          1359.000000           1359.000000  1359.000000   \n",
       "mean      0.088124            15.893304             46.825975     0.996709   \n",
       "std       0.049377            10.447270             33.408946     0.001869   \n",
       "min       0.012000             1.000000              6.000000     0.990070   \n",
       "25%       0.070000             7.000000             22.000000     0.995600   \n",
       "50%       0.079000            14.000000             38.000000     0.996700   \n",
       "75%       0.091000            21.000000             63.000000     0.997820   \n",
       "max       0.611000            72.000000            289.000000     1.003690   \n",
       "\n",
       "                pH    sulphates      alcohol      quality  \n",
       "count  1359.000000  1359.000000  1359.000000  1359.000000  \n",
       "mean      3.309787     0.658705    10.432315     5.623252  \n",
       "std       0.155036     0.170667     1.082065     0.823578  \n",
       "min       2.740000     0.330000     8.400000     3.000000  \n",
       "25%       3.210000     0.550000     9.500000     5.000000  \n",
       "50%       3.310000     0.620000    10.200000     6.000000  \n",
       "75%       3.400000     0.730000    11.100000     6.000000  \n",
       "max       4.010000     2.000000    14.900000     8.000000  "
      ]
     },
     "execution_count": 37,
     "metadata": {},
     "output_type": "execute_result"
    }
   ],
   "source": [
    "df_red.describe()"
   ]
  },
  {
   "cell_type": "code",
   "execution_count": 38,
   "metadata": {},
   "outputs": [
    {
     "data": {
      "text/html": [
       "<div>\n",
       "<style scoped>\n",
       "    .dataframe tbody tr th:only-of-type {\n",
       "        vertical-align: middle;\n",
       "    }\n",
       "\n",
       "    .dataframe tbody tr th {\n",
       "        vertical-align: top;\n",
       "    }\n",
       "\n",
       "    .dataframe thead th {\n",
       "        text-align: right;\n",
       "    }\n",
       "</style>\n",
       "<table border=\"1\" class=\"dataframe\">\n",
       "  <thead>\n",
       "    <tr style=\"text-align: right;\">\n",
       "      <th></th>\n",
       "      <th>fixed_acidity</th>\n",
       "      <th>volatile_acidity</th>\n",
       "      <th>citric_acid</th>\n",
       "      <th>residual_sugar</th>\n",
       "      <th>chlorides</th>\n",
       "      <th>free_sulfur-dioxide</th>\n",
       "      <th>total_sulfur_dioxide</th>\n",
       "      <th>density</th>\n",
       "      <th>pH</th>\n",
       "      <th>sulphates</th>\n",
       "      <th>alcohol</th>\n",
       "      <th>quality</th>\n",
       "    </tr>\n",
       "  </thead>\n",
       "  <tbody>\n",
       "    <tr>\n",
       "      <th>count</th>\n",
       "      <td>3961.000000</td>\n",
       "      <td>3961.000000</td>\n",
       "      <td>3961.000000</td>\n",
       "      <td>3961.000000</td>\n",
       "      <td>3961.000000</td>\n",
       "      <td>3961.000000</td>\n",
       "      <td>3961.000000</td>\n",
       "      <td>3961.000000</td>\n",
       "      <td>3961.000000</td>\n",
       "      <td>3961.000000</td>\n",
       "      <td>3961.000000</td>\n",
       "      <td>3961.000000</td>\n",
       "    </tr>\n",
       "    <tr>\n",
       "      <th>mean</th>\n",
       "      <td>6.839346</td>\n",
       "      <td>0.280538</td>\n",
       "      <td>0.334332</td>\n",
       "      <td>5.914819</td>\n",
       "      <td>0.045905</td>\n",
       "      <td>34.889169</td>\n",
       "      <td>137.193512</td>\n",
       "      <td>0.993790</td>\n",
       "      <td>3.195458</td>\n",
       "      <td>0.490351</td>\n",
       "      <td>10.589358</td>\n",
       "      <td>5.854835</td>\n",
       "    </tr>\n",
       "    <tr>\n",
       "      <th>std</th>\n",
       "      <td>0.866860</td>\n",
       "      <td>0.103437</td>\n",
       "      <td>0.122446</td>\n",
       "      <td>4.861646</td>\n",
       "      <td>0.023103</td>\n",
       "      <td>17.210021</td>\n",
       "      <td>43.129065</td>\n",
       "      <td>0.002905</td>\n",
       "      <td>0.151546</td>\n",
       "      <td>0.113523</td>\n",
       "      <td>1.217076</td>\n",
       "      <td>0.890683</td>\n",
       "    </tr>\n",
       "    <tr>\n",
       "      <th>min</th>\n",
       "      <td>3.800000</td>\n",
       "      <td>0.080000</td>\n",
       "      <td>0.000000</td>\n",
       "      <td>0.600000</td>\n",
       "      <td>0.009000</td>\n",
       "      <td>2.000000</td>\n",
       "      <td>9.000000</td>\n",
       "      <td>0.987110</td>\n",
       "      <td>2.720000</td>\n",
       "      <td>0.220000</td>\n",
       "      <td>8.000000</td>\n",
       "      <td>3.000000</td>\n",
       "    </tr>\n",
       "    <tr>\n",
       "      <th>25%</th>\n",
       "      <td>6.300000</td>\n",
       "      <td>0.210000</td>\n",
       "      <td>0.270000</td>\n",
       "      <td>1.600000</td>\n",
       "      <td>0.035000</td>\n",
       "      <td>23.000000</td>\n",
       "      <td>106.000000</td>\n",
       "      <td>0.991620</td>\n",
       "      <td>3.090000</td>\n",
       "      <td>0.410000</td>\n",
       "      <td>9.500000</td>\n",
       "      <td>5.000000</td>\n",
       "    </tr>\n",
       "    <tr>\n",
       "      <th>50%</th>\n",
       "      <td>6.800000</td>\n",
       "      <td>0.260000</td>\n",
       "      <td>0.320000</td>\n",
       "      <td>4.700000</td>\n",
       "      <td>0.042000</td>\n",
       "      <td>33.000000</td>\n",
       "      <td>133.000000</td>\n",
       "      <td>0.993500</td>\n",
       "      <td>3.180000</td>\n",
       "      <td>0.480000</td>\n",
       "      <td>10.400000</td>\n",
       "      <td>6.000000</td>\n",
       "    </tr>\n",
       "    <tr>\n",
       "      <th>75%</th>\n",
       "      <td>7.300000</td>\n",
       "      <td>0.330000</td>\n",
       "      <td>0.390000</td>\n",
       "      <td>8.900000</td>\n",
       "      <td>0.050000</td>\n",
       "      <td>45.000000</td>\n",
       "      <td>166.000000</td>\n",
       "      <td>0.995710</td>\n",
       "      <td>3.290000</td>\n",
       "      <td>0.550000</td>\n",
       "      <td>11.400000</td>\n",
       "      <td>6.000000</td>\n",
       "    </tr>\n",
       "    <tr>\n",
       "      <th>max</th>\n",
       "      <td>14.200000</td>\n",
       "      <td>1.100000</td>\n",
       "      <td>1.660000</td>\n",
       "      <td>65.800000</td>\n",
       "      <td>0.346000</td>\n",
       "      <td>289.000000</td>\n",
       "      <td>440.000000</td>\n",
       "      <td>1.038980</td>\n",
       "      <td>3.820000</td>\n",
       "      <td>1.080000</td>\n",
       "      <td>14.200000</td>\n",
       "      <td>9.000000</td>\n",
       "    </tr>\n",
       "  </tbody>\n",
       "</table>\n",
       "</div>"
      ],
      "text/plain": [
       "       fixed_acidity  volatile_acidity  citric_acid  residual_sugar  \\\n",
       "count    3961.000000       3961.000000  3961.000000     3961.000000   \n",
       "mean        6.839346          0.280538     0.334332        5.914819   \n",
       "std         0.866860          0.103437     0.122446        4.861646   \n",
       "min         3.800000          0.080000     0.000000        0.600000   \n",
       "25%         6.300000          0.210000     0.270000        1.600000   \n",
       "50%         6.800000          0.260000     0.320000        4.700000   \n",
       "75%         7.300000          0.330000     0.390000        8.900000   \n",
       "max        14.200000          1.100000     1.660000       65.800000   \n",
       "\n",
       "         chlorides  free_sulfur-dioxide  total_sulfur_dioxide      density  \\\n",
       "count  3961.000000          3961.000000           3961.000000  3961.000000   \n",
       "mean      0.045905            34.889169            137.193512     0.993790   \n",
       "std       0.023103            17.210021             43.129065     0.002905   \n",
       "min       0.009000             2.000000              9.000000     0.987110   \n",
       "25%       0.035000            23.000000            106.000000     0.991620   \n",
       "50%       0.042000            33.000000            133.000000     0.993500   \n",
       "75%       0.050000            45.000000            166.000000     0.995710   \n",
       "max       0.346000           289.000000            440.000000     1.038980   \n",
       "\n",
       "                pH    sulphates      alcohol      quality  \n",
       "count  3961.000000  3961.000000  3961.000000  3961.000000  \n",
       "mean      3.195458     0.490351    10.589358     5.854835  \n",
       "std       0.151546     0.113523     1.217076     0.890683  \n",
       "min       2.720000     0.220000     8.000000     3.000000  \n",
       "25%       3.090000     0.410000     9.500000     5.000000  \n",
       "50%       3.180000     0.480000    10.400000     6.000000  \n",
       "75%       3.290000     0.550000    11.400000     6.000000  \n",
       "max       3.820000     1.080000    14.200000     9.000000  "
      ]
     },
     "execution_count": 38,
     "metadata": {},
     "output_type": "execute_result"
    }
   ],
   "source": [
    "df_white.describe()"
   ]
  },
  {
   "cell_type": "markdown",
   "metadata": {},
   "source": [
    "### Appending the color to each dataframe & displaying the edited dataset"
   ]
  },
  {
   "cell_type": "code",
   "execution_count": 39,
   "metadata": {},
   "outputs": [
    {
     "data": {
      "text/html": [
       "<div>\n",
       "<style scoped>\n",
       "    .dataframe tbody tr th:only-of-type {\n",
       "        vertical-align: middle;\n",
       "    }\n",
       "\n",
       "    .dataframe tbody tr th {\n",
       "        vertical-align: top;\n",
       "    }\n",
       "\n",
       "    .dataframe thead th {\n",
       "        text-align: right;\n",
       "    }\n",
       "</style>\n",
       "<table border=\"1\" class=\"dataframe\">\n",
       "  <thead>\n",
       "    <tr style=\"text-align: right;\">\n",
       "      <th></th>\n",
       "      <th>fixed_acidity</th>\n",
       "      <th>volatile_acidity</th>\n",
       "      <th>citric_acid</th>\n",
       "      <th>residual_sugar</th>\n",
       "      <th>chlorides</th>\n",
       "      <th>free_sulfur-dioxide</th>\n",
       "      <th>total_sulfur_dioxide</th>\n",
       "      <th>density</th>\n",
       "      <th>pH</th>\n",
       "      <th>sulphates</th>\n",
       "      <th>alcohol</th>\n",
       "      <th>quality</th>\n",
       "      <th>color</th>\n",
       "    </tr>\n",
       "  </thead>\n",
       "  <tbody>\n",
       "    <tr>\n",
       "      <th>0</th>\n",
       "      <td>7.4</td>\n",
       "      <td>0.70</td>\n",
       "      <td>0.00</td>\n",
       "      <td>1.9</td>\n",
       "      <td>0.076</td>\n",
       "      <td>11.0</td>\n",
       "      <td>34.0</td>\n",
       "      <td>0.9978</td>\n",
       "      <td>3.51</td>\n",
       "      <td>0.56</td>\n",
       "      <td>9.4</td>\n",
       "      <td>5</td>\n",
       "      <td>red</td>\n",
       "    </tr>\n",
       "    <tr>\n",
       "      <th>1</th>\n",
       "      <td>7.8</td>\n",
       "      <td>0.88</td>\n",
       "      <td>0.00</td>\n",
       "      <td>2.6</td>\n",
       "      <td>0.098</td>\n",
       "      <td>25.0</td>\n",
       "      <td>67.0</td>\n",
       "      <td>0.9968</td>\n",
       "      <td>3.20</td>\n",
       "      <td>0.68</td>\n",
       "      <td>9.8</td>\n",
       "      <td>5</td>\n",
       "      <td>red</td>\n",
       "    </tr>\n",
       "    <tr>\n",
       "      <th>2</th>\n",
       "      <td>7.8</td>\n",
       "      <td>0.76</td>\n",
       "      <td>0.04</td>\n",
       "      <td>2.3</td>\n",
       "      <td>0.092</td>\n",
       "      <td>15.0</td>\n",
       "      <td>54.0</td>\n",
       "      <td>0.9970</td>\n",
       "      <td>3.26</td>\n",
       "      <td>0.65</td>\n",
       "      <td>9.8</td>\n",
       "      <td>5</td>\n",
       "      <td>red</td>\n",
       "    </tr>\n",
       "    <tr>\n",
       "      <th>3</th>\n",
       "      <td>11.2</td>\n",
       "      <td>0.28</td>\n",
       "      <td>0.56</td>\n",
       "      <td>1.9</td>\n",
       "      <td>0.075</td>\n",
       "      <td>17.0</td>\n",
       "      <td>60.0</td>\n",
       "      <td>0.9980</td>\n",
       "      <td>3.16</td>\n",
       "      <td>0.58</td>\n",
       "      <td>9.8</td>\n",
       "      <td>6</td>\n",
       "      <td>red</td>\n",
       "    </tr>\n",
       "    <tr>\n",
       "      <th>5</th>\n",
       "      <td>7.4</td>\n",
       "      <td>0.66</td>\n",
       "      <td>0.00</td>\n",
       "      <td>1.8</td>\n",
       "      <td>0.075</td>\n",
       "      <td>13.0</td>\n",
       "      <td>40.0</td>\n",
       "      <td>0.9978</td>\n",
       "      <td>3.51</td>\n",
       "      <td>0.56</td>\n",
       "      <td>9.4</td>\n",
       "      <td>5</td>\n",
       "      <td>red</td>\n",
       "    </tr>\n",
       "  </tbody>\n",
       "</table>\n",
       "</div>"
      ],
      "text/plain": [
       "   fixed_acidity  volatile_acidity  citric_acid  residual_sugar  chlorides  \\\n",
       "0            7.4              0.70         0.00             1.9      0.076   \n",
       "1            7.8              0.88         0.00             2.6      0.098   \n",
       "2            7.8              0.76         0.04             2.3      0.092   \n",
       "3           11.2              0.28         0.56             1.9      0.075   \n",
       "5            7.4              0.66         0.00             1.8      0.075   \n",
       "\n",
       "   free_sulfur-dioxide  total_sulfur_dioxide  density    pH  sulphates  \\\n",
       "0                 11.0                  34.0   0.9978  3.51       0.56   \n",
       "1                 25.0                  67.0   0.9968  3.20       0.68   \n",
       "2                 15.0                  54.0   0.9970  3.26       0.65   \n",
       "3                 17.0                  60.0   0.9980  3.16       0.58   \n",
       "5                 13.0                  40.0   0.9978  3.51       0.56   \n",
       "\n",
       "   alcohol  quality color  \n",
       "0      9.4        5   red  \n",
       "1      9.8        5   red  \n",
       "2      9.8        5   red  \n",
       "3      9.8        6   red  \n",
       "5      9.4        5   red  "
      ]
     },
     "execution_count": 39,
     "metadata": {},
     "output_type": "execute_result"
    }
   ],
   "source": [
    "df_red['color']='red'\n",
    "df_red.head()"
   ]
  },
  {
   "cell_type": "code",
   "execution_count": 40,
   "metadata": {},
   "outputs": [
    {
     "data": {
      "text/html": [
       "<div>\n",
       "<style scoped>\n",
       "    .dataframe tbody tr th:only-of-type {\n",
       "        vertical-align: middle;\n",
       "    }\n",
       "\n",
       "    .dataframe tbody tr th {\n",
       "        vertical-align: top;\n",
       "    }\n",
       "\n",
       "    .dataframe thead th {\n",
       "        text-align: right;\n",
       "    }\n",
       "</style>\n",
       "<table border=\"1\" class=\"dataframe\">\n",
       "  <thead>\n",
       "    <tr style=\"text-align: right;\">\n",
       "      <th></th>\n",
       "      <th>fixed_acidity</th>\n",
       "      <th>volatile_acidity</th>\n",
       "      <th>citric_acid</th>\n",
       "      <th>residual_sugar</th>\n",
       "      <th>chlorides</th>\n",
       "      <th>free_sulfur-dioxide</th>\n",
       "      <th>total_sulfur_dioxide</th>\n",
       "      <th>density</th>\n",
       "      <th>pH</th>\n",
       "      <th>sulphates</th>\n",
       "      <th>alcohol</th>\n",
       "      <th>quality</th>\n",
       "      <th>color</th>\n",
       "    </tr>\n",
       "  </thead>\n",
       "  <tbody>\n",
       "    <tr>\n",
       "      <th>0</th>\n",
       "      <td>7.0</td>\n",
       "      <td>0.27</td>\n",
       "      <td>0.36</td>\n",
       "      <td>20.7</td>\n",
       "      <td>0.045</td>\n",
       "      <td>45.0</td>\n",
       "      <td>170.0</td>\n",
       "      <td>1.0010</td>\n",
       "      <td>3.00</td>\n",
       "      <td>0.45</td>\n",
       "      <td>8.8</td>\n",
       "      <td>6</td>\n",
       "      <td>white</td>\n",
       "    </tr>\n",
       "    <tr>\n",
       "      <th>1</th>\n",
       "      <td>6.3</td>\n",
       "      <td>0.30</td>\n",
       "      <td>0.34</td>\n",
       "      <td>1.6</td>\n",
       "      <td>0.049</td>\n",
       "      <td>14.0</td>\n",
       "      <td>132.0</td>\n",
       "      <td>0.9940</td>\n",
       "      <td>3.30</td>\n",
       "      <td>0.49</td>\n",
       "      <td>9.5</td>\n",
       "      <td>6</td>\n",
       "      <td>white</td>\n",
       "    </tr>\n",
       "    <tr>\n",
       "      <th>2</th>\n",
       "      <td>8.1</td>\n",
       "      <td>0.28</td>\n",
       "      <td>0.40</td>\n",
       "      <td>6.9</td>\n",
       "      <td>0.050</td>\n",
       "      <td>30.0</td>\n",
       "      <td>97.0</td>\n",
       "      <td>0.9951</td>\n",
       "      <td>3.26</td>\n",
       "      <td>0.44</td>\n",
       "      <td>10.1</td>\n",
       "      <td>6</td>\n",
       "      <td>white</td>\n",
       "    </tr>\n",
       "    <tr>\n",
       "      <th>3</th>\n",
       "      <td>7.2</td>\n",
       "      <td>0.23</td>\n",
       "      <td>0.32</td>\n",
       "      <td>8.5</td>\n",
       "      <td>0.058</td>\n",
       "      <td>47.0</td>\n",
       "      <td>186.0</td>\n",
       "      <td>0.9956</td>\n",
       "      <td>3.19</td>\n",
       "      <td>0.40</td>\n",
       "      <td>9.9</td>\n",
       "      <td>6</td>\n",
       "      <td>white</td>\n",
       "    </tr>\n",
       "    <tr>\n",
       "      <th>6</th>\n",
       "      <td>6.2</td>\n",
       "      <td>0.32</td>\n",
       "      <td>0.16</td>\n",
       "      <td>7.0</td>\n",
       "      <td>0.045</td>\n",
       "      <td>30.0</td>\n",
       "      <td>136.0</td>\n",
       "      <td>0.9949</td>\n",
       "      <td>3.18</td>\n",
       "      <td>0.47</td>\n",
       "      <td>9.6</td>\n",
       "      <td>6</td>\n",
       "      <td>white</td>\n",
       "    </tr>\n",
       "  </tbody>\n",
       "</table>\n",
       "</div>"
      ],
      "text/plain": [
       "   fixed_acidity  volatile_acidity  citric_acid  residual_sugar  chlorides  \\\n",
       "0            7.0              0.27         0.36            20.7      0.045   \n",
       "1            6.3              0.30         0.34             1.6      0.049   \n",
       "2            8.1              0.28         0.40             6.9      0.050   \n",
       "3            7.2              0.23         0.32             8.5      0.058   \n",
       "6            6.2              0.32         0.16             7.0      0.045   \n",
       "\n",
       "   free_sulfur-dioxide  total_sulfur_dioxide  density    pH  sulphates  \\\n",
       "0                 45.0                 170.0   1.0010  3.00       0.45   \n",
       "1                 14.0                 132.0   0.9940  3.30       0.49   \n",
       "2                 30.0                  97.0   0.9951  3.26       0.44   \n",
       "3                 47.0                 186.0   0.9956  3.19       0.40   \n",
       "6                 30.0                 136.0   0.9949  3.18       0.47   \n",
       "\n",
       "   alcohol  quality  color  \n",
       "0      8.8        6  white  \n",
       "1      9.5        6  white  \n",
       "2     10.1        6  white  \n",
       "3      9.9        6  white  \n",
       "6      9.6        6  white  "
      ]
     },
     "execution_count": 40,
     "metadata": {},
     "output_type": "execute_result"
    }
   ],
   "source": [
    "df_white['color']='white'\n",
    "df_white.head()"
   ]
  },
  {
   "cell_type": "markdown",
   "metadata": {},
   "source": [
    "### Appending the white dataframe to the red one so as to create one dataframe"
   ]
  },
  {
   "cell_type": "code",
   "execution_count": 42,
   "metadata": {},
   "outputs": [
    {
     "data": {
      "text/html": [
       "<div>\n",
       "<style scoped>\n",
       "    .dataframe tbody tr th:only-of-type {\n",
       "        vertical-align: middle;\n",
       "    }\n",
       "\n",
       "    .dataframe tbody tr th {\n",
       "        vertical-align: top;\n",
       "    }\n",
       "\n",
       "    .dataframe thead th {\n",
       "        text-align: right;\n",
       "    }\n",
       "</style>\n",
       "<table border=\"1\" class=\"dataframe\">\n",
       "  <thead>\n",
       "    <tr style=\"text-align: right;\">\n",
       "      <th></th>\n",
       "      <th>fixed_acidity</th>\n",
       "      <th>volatile_acidity</th>\n",
       "      <th>citric_acid</th>\n",
       "      <th>residual_sugar</th>\n",
       "      <th>chlorides</th>\n",
       "      <th>free_sulfur-dioxide</th>\n",
       "      <th>total_sulfur_dioxide</th>\n",
       "      <th>density</th>\n",
       "      <th>pH</th>\n",
       "      <th>sulphates</th>\n",
       "      <th>alcohol</th>\n",
       "      <th>quality</th>\n",
       "      <th>color</th>\n",
       "    </tr>\n",
       "  </thead>\n",
       "  <tbody>\n",
       "    <tr>\n",
       "      <th>0</th>\n",
       "      <td>7.4</td>\n",
       "      <td>0.70</td>\n",
       "      <td>0.00</td>\n",
       "      <td>1.9</td>\n",
       "      <td>0.076</td>\n",
       "      <td>11.0</td>\n",
       "      <td>34.0</td>\n",
       "      <td>0.99780</td>\n",
       "      <td>3.51</td>\n",
       "      <td>0.56</td>\n",
       "      <td>9.4</td>\n",
       "      <td>5</td>\n",
       "      <td>red</td>\n",
       "    </tr>\n",
       "    <tr>\n",
       "      <th>1</th>\n",
       "      <td>7.8</td>\n",
       "      <td>0.88</td>\n",
       "      <td>0.00</td>\n",
       "      <td>2.6</td>\n",
       "      <td>0.098</td>\n",
       "      <td>25.0</td>\n",
       "      <td>67.0</td>\n",
       "      <td>0.99680</td>\n",
       "      <td>3.20</td>\n",
       "      <td>0.68</td>\n",
       "      <td>9.8</td>\n",
       "      <td>5</td>\n",
       "      <td>red</td>\n",
       "    </tr>\n",
       "    <tr>\n",
       "      <th>2</th>\n",
       "      <td>7.8</td>\n",
       "      <td>0.76</td>\n",
       "      <td>0.04</td>\n",
       "      <td>2.3</td>\n",
       "      <td>0.092</td>\n",
       "      <td>15.0</td>\n",
       "      <td>54.0</td>\n",
       "      <td>0.99700</td>\n",
       "      <td>3.26</td>\n",
       "      <td>0.65</td>\n",
       "      <td>9.8</td>\n",
       "      <td>5</td>\n",
       "      <td>red</td>\n",
       "    </tr>\n",
       "    <tr>\n",
       "      <th>3</th>\n",
       "      <td>11.2</td>\n",
       "      <td>0.28</td>\n",
       "      <td>0.56</td>\n",
       "      <td>1.9</td>\n",
       "      <td>0.075</td>\n",
       "      <td>17.0</td>\n",
       "      <td>60.0</td>\n",
       "      <td>0.99800</td>\n",
       "      <td>3.16</td>\n",
       "      <td>0.58</td>\n",
       "      <td>9.8</td>\n",
       "      <td>6</td>\n",
       "      <td>red</td>\n",
       "    </tr>\n",
       "    <tr>\n",
       "      <th>5</th>\n",
       "      <td>7.4</td>\n",
       "      <td>0.66</td>\n",
       "      <td>0.00</td>\n",
       "      <td>1.8</td>\n",
       "      <td>0.075</td>\n",
       "      <td>13.0</td>\n",
       "      <td>40.0</td>\n",
       "      <td>0.99780</td>\n",
       "      <td>3.51</td>\n",
       "      <td>0.56</td>\n",
       "      <td>9.4</td>\n",
       "      <td>5</td>\n",
       "      <td>red</td>\n",
       "    </tr>\n",
       "    <tr>\n",
       "      <th>...</th>\n",
       "      <td>...</td>\n",
       "      <td>...</td>\n",
       "      <td>...</td>\n",
       "      <td>...</td>\n",
       "      <td>...</td>\n",
       "      <td>...</td>\n",
       "      <td>...</td>\n",
       "      <td>...</td>\n",
       "      <td>...</td>\n",
       "      <td>...</td>\n",
       "      <td>...</td>\n",
       "      <td>...</td>\n",
       "      <td>...</td>\n",
       "    </tr>\n",
       "    <tr>\n",
       "      <th>4893</th>\n",
       "      <td>6.2</td>\n",
       "      <td>0.21</td>\n",
       "      <td>0.29</td>\n",
       "      <td>1.6</td>\n",
       "      <td>0.039</td>\n",
       "      <td>24.0</td>\n",
       "      <td>92.0</td>\n",
       "      <td>0.99114</td>\n",
       "      <td>3.27</td>\n",
       "      <td>0.50</td>\n",
       "      <td>11.2</td>\n",
       "      <td>6</td>\n",
       "      <td>white</td>\n",
       "    </tr>\n",
       "    <tr>\n",
       "      <th>4894</th>\n",
       "      <td>6.6</td>\n",
       "      <td>0.32</td>\n",
       "      <td>0.36</td>\n",
       "      <td>8.0</td>\n",
       "      <td>0.047</td>\n",
       "      <td>57.0</td>\n",
       "      <td>168.0</td>\n",
       "      <td>0.99490</td>\n",
       "      <td>3.15</td>\n",
       "      <td>0.46</td>\n",
       "      <td>9.6</td>\n",
       "      <td>5</td>\n",
       "      <td>white</td>\n",
       "    </tr>\n",
       "    <tr>\n",
       "      <th>4895</th>\n",
       "      <td>6.5</td>\n",
       "      <td>0.24</td>\n",
       "      <td>0.19</td>\n",
       "      <td>1.2</td>\n",
       "      <td>0.041</td>\n",
       "      <td>30.0</td>\n",
       "      <td>111.0</td>\n",
       "      <td>0.99254</td>\n",
       "      <td>2.99</td>\n",
       "      <td>0.46</td>\n",
       "      <td>9.4</td>\n",
       "      <td>6</td>\n",
       "      <td>white</td>\n",
       "    </tr>\n",
       "    <tr>\n",
       "      <th>4896</th>\n",
       "      <td>5.5</td>\n",
       "      <td>0.29</td>\n",
       "      <td>0.30</td>\n",
       "      <td>1.1</td>\n",
       "      <td>0.022</td>\n",
       "      <td>20.0</td>\n",
       "      <td>110.0</td>\n",
       "      <td>0.98869</td>\n",
       "      <td>3.34</td>\n",
       "      <td>0.38</td>\n",
       "      <td>12.8</td>\n",
       "      <td>7</td>\n",
       "      <td>white</td>\n",
       "    </tr>\n",
       "    <tr>\n",
       "      <th>4897</th>\n",
       "      <td>6.0</td>\n",
       "      <td>0.21</td>\n",
       "      <td>0.38</td>\n",
       "      <td>0.8</td>\n",
       "      <td>0.020</td>\n",
       "      <td>22.0</td>\n",
       "      <td>98.0</td>\n",
       "      <td>0.98941</td>\n",
       "      <td>3.26</td>\n",
       "      <td>0.32</td>\n",
       "      <td>11.8</td>\n",
       "      <td>6</td>\n",
       "      <td>white</td>\n",
       "    </tr>\n",
       "  </tbody>\n",
       "</table>\n",
       "<p>5320 rows × 13 columns</p>\n",
       "</div>"
      ],
      "text/plain": [
       "      fixed_acidity  volatile_acidity  citric_acid  residual_sugar  chlorides  \\\n",
       "0               7.4              0.70         0.00             1.9      0.076   \n",
       "1               7.8              0.88         0.00             2.6      0.098   \n",
       "2               7.8              0.76         0.04             2.3      0.092   \n",
       "3              11.2              0.28         0.56             1.9      0.075   \n",
       "5               7.4              0.66         0.00             1.8      0.075   \n",
       "...             ...               ...          ...             ...        ...   \n",
       "4893            6.2              0.21         0.29             1.6      0.039   \n",
       "4894            6.6              0.32         0.36             8.0      0.047   \n",
       "4895            6.5              0.24         0.19             1.2      0.041   \n",
       "4896            5.5              0.29         0.30             1.1      0.022   \n",
       "4897            6.0              0.21         0.38             0.8      0.020   \n",
       "\n",
       "      free_sulfur-dioxide  total_sulfur_dioxide  density    pH  sulphates  \\\n",
       "0                    11.0                  34.0  0.99780  3.51       0.56   \n",
       "1                    25.0                  67.0  0.99680  3.20       0.68   \n",
       "2                    15.0                  54.0  0.99700  3.26       0.65   \n",
       "3                    17.0                  60.0  0.99800  3.16       0.58   \n",
       "5                    13.0                  40.0  0.99780  3.51       0.56   \n",
       "...                   ...                   ...      ...   ...        ...   \n",
       "4893                 24.0                  92.0  0.99114  3.27       0.50   \n",
       "4894                 57.0                 168.0  0.99490  3.15       0.46   \n",
       "4895                 30.0                 111.0  0.99254  2.99       0.46   \n",
       "4896                 20.0                 110.0  0.98869  3.34       0.38   \n",
       "4897                 22.0                  98.0  0.98941  3.26       0.32   \n",
       "\n",
       "      alcohol  quality  color  \n",
       "0         9.4        5    red  \n",
       "1         9.8        5    red  \n",
       "2         9.8        5    red  \n",
       "3         9.8        6    red  \n",
       "5         9.4        5    red  \n",
       "...       ...      ...    ...  \n",
       "4893     11.2        6  white  \n",
       "4894      9.6        5  white  \n",
       "4895      9.4        6  white  \n",
       "4896     12.8        7  white  \n",
       "4897     11.8        6  white  \n",
       "\n",
       "[5320 rows x 13 columns]"
      ]
     },
     "execution_count": 42,
     "metadata": {},
     "output_type": "execute_result"
    }
   ],
   "source": [
    "df1=df_red.append(df_white)\n",
    "wines_df=df1\n",
    "wines_df"
   ]
  },
  {
   "cell_type": "markdown",
   "metadata": {},
   "source": [
    "## Exploratory Data Analysis"
   ]
  },
  {
   "cell_type": "markdown",
   "metadata": {},
   "source": [
    "### Wine with higher quality"
   ]
  },
  {
   "cell_type": "code",
   "execution_count": 43,
   "metadata": {},
   "outputs": [
    {
     "data": {
      "text/plain": [
       "color\n",
       "red      5.623252\n",
       "white    5.854835\n",
       "Name: quality, dtype: float64"
      ]
     },
     "execution_count": 43,
     "metadata": {},
     "output_type": "execute_result"
    }
   ],
   "source": [
    "wines_df.groupby(['color'])['quality'].mean()"
   ]
  },
  {
   "cell_type": "markdown",
   "metadata": {},
   "source": [
    "## Correlation Matrix for Quality (Both, Red & White)"
   ]
  },
  {
   "cell_type": "code",
   "execution_count": 44,
   "metadata": {},
   "outputs": [
    {
     "data": {
      "text/plain": [
       "Text(0.5, 1.0, 'Correlation Matrix of Both Wines (for Quality)')"
      ]
     },
     "execution_count": 44,
     "metadata": {},
     "output_type": "execute_result"
    },
    {
     "data": {
      "image/png": "[encoded data removed]",
      "text/plain": [
       "<Figure size 1152x360 with 2 Axes>"
      ]
     },
     "metadata": {
      "needs_background": "light"
     },
     "output_type": "display_data"
    }
   ],
   "source": [
    "plt.figure(figsize=(16, 5))\n",
    "sns.heatmap(wines_df.corr(), annot=True)\n",
    "plt.title('Correlation Matrix of Both Wines (for Quality)')"
   ]
  },
  {
   "cell_type": "code",
   "execution_count": 45,
   "metadata": {},
   "outputs": [
    {
     "data": {
      "text/plain": [
       "Text(0.5, 1.0, 'Correlation Matrix of Red Wine (for Quality)')"
      ]
     },
     "execution_count": 45,
     "metadata": {},
     "output_type": "execute_result"
    },
    {
     "data": {
      "image/png": "[encoded data removed]",
      "text/plain": [
       "<Figure size 1152x360 with 2 Axes>"
      ]
     },
     "metadata": {
      "needs_background": "light"
     },
     "output_type": "display_data"
    }
   ],
   "source": [
    "plt.figure(figsize=(16, 5))\n",
    "sns.heatmap(df_red.corr(), annot=True)\n",
    "plt.title('Correlation Matrix of Red Wine (for Quality)')"
   ]
  },
  {
   "cell_type": "code",
   "execution_count": 46,
   "metadata": {},
   "outputs": [
    {
     "data": {
      "text/plain": [
       "Text(0.5, 1.0, 'Correlation Matrix of White Wine (for Quality)')"
      ]
     },
     "execution_count": 46,
     "metadata": {},
     "output_type": "execute_result"
    },
    {
     "data": {
      "image/png": "[encoded data removed]",
      "text/plain": [
       "<Figure size 1152x360 with 2 Axes>"
      ]
     },
     "metadata": {
      "needs_background": "light"
     },
     "output_type": "display_data"
    }
   ],
   "source": [
    "plt.figure(figsize=(16, 5))\n",
    "sns.heatmap(df_white.corr(), annot=True)\n",
    "plt.title('Correlation Matrix of White Wine (for Quality)')"
   ]
  },
  {
   "cell_type": "markdown",
   "metadata": {},
   "source": [
    "### Plot of the number of wines regarding their quality"
   ]
  },
  {
   "cell_type": "code",
   "execution_count": 48,
   "metadata": {},
   "outputs": [
    {
     "data": {
      "text/plain": [
       "<AxesSubplot:xlabel='quality', ylabel='count'>"
      ]
     },
     "execution_count": 48,
     "metadata": {},
     "output_type": "execute_result"
    },
    {
     "data": {
      "image/png": "[encoded data removed]",
      "text/plain": [
       "<Figure size 432x288 with 1 Axes>"
      ]
     },
     "metadata": {
      "needs_background": "light"
     },
     "output_type": "display_data"
    }
   ],
   "source": [
    "sns.countplot(x=wines_df['quality'], palette='muted')"
   ]
  },
  {
   "cell_type": "markdown",
   "metadata": {},
   "source": [
    "### Wine quality standards"
   ]
  },
  {
   "cell_type": "code",
   "execution_count": 49,
   "metadata": {},
   "outputs": [],
   "source": [
    "quality=wines_df['quality'].values\n",
    "category=[]\n",
    "for num in quality:\n",
    "    if num<5:\n",
    "        category.append('Low')\n",
    "    elif num>6:\n",
    "        category.append('High')\n",
    "    else:\n",
    "        category.append('Medium')"
   ]
  },
  {
   "cell_type": "code",
   "execution_count": 50,
   "metadata": {},
   "outputs": [
    {
     "name": "stdout",
     "output_type": "stream",
     "text": [
      "[('Low', 236), ('Medium', 4075), ('High', 1009)]\n"
     ]
    },
    {
     "data": {
      "text/plain": [
       "<AxesSubplot:ylabel='count'>"
      ]
     },
     "execution_count": 50,
     "metadata": {},
     "output_type": "execute_result"
    },
    {
     "data": {
      "image/png": "[encoded data removed]",
      "text/plain": [
       "<Figure size 720x432 with 1 Axes>"
      ]
     },
     "metadata": {
      "needs_background": "light"
     },
     "output_type": "display_data"
    }
   ],
   "source": [
    "print([(i, category.count(i)) for i in set(category)])\n",
    "plt.figure(figsize=(10, 6))\n",
    "sns.countplot(x=category, palette='muted')"
   ]
  },
  {
   "cell_type": "markdown",
   "metadata": {},
   "source": [
    "### Proportions"
   ]
  },
  {
   "cell_type": "code",
   "execution_count": 54,
   "metadata": {},
   "outputs": [
    {
     "data": {
      "text/plain": [
       "<matplotlib.legend.Legend at 0x2cfd4093850>"
      ]
     },
     "execution_count": 54,
     "metadata": {},
     "output_type": "execute_result"
    },
    {
     "data": {
      "image/png": "[encoded data removed]",
      "text/plain": [
       "<Figure size 432x288 with 1 Axes>"
      ]
     },
     "metadata": {},
     "output_type": "display_data"
    }
   ],
   "source": [
    "sns.set_style('darkgrid')\n",
    "\n",
    "#counts for each rating and color\n",
    "color_counts=wines_df.groupby(['color', 'quality']).count()['pH']\n",
    "\n",
    "#total counts for each color\n",
    "color_totals = wines_df.groupby('color').count()['pH']\n",
    "\n",
    "#proportions by dividing red rating counts by total # of red samples\n",
    "red_proportions = color_counts['red'] / color_totals['red']\n",
    "\n",
    "#proportions by dividing white rating counts by total # of white samples\n",
    "white_proportions = color_counts['white'] / color_totals['white']\n",
    "\n",
    "red_proportions['9'] = 0\n",
    "\n",
    "ind=np.arange(len(red_proportions))\n",
    "\n",
    "width=0.35\n",
    "\n",
    "red_bars=plt.bar(ind, red_proportions, width, color='r', alpha=.7, label='Red wine')\n",
    "white_bars=plt.bar(ind+width, white_proportions, width, color='w', alpha=.7, label='White wine')\n",
    "\n",
    "plt.ylabel('Proportion')\n",
    "plt.xlabel('Quality')\n",
    "plt.title('Proportion by Wine Color and Quality')\n",
    "locations=ind+width/2\n",
    "labels=['3', '4', '5', '6', '7', '8', '9']\n",
    "plt.xticks(locations, labels)\n",
    "\n",
    "plt.legend()"
   ]
  },
  {
   "cell_type": "markdown",
   "metadata": {},
   "source": [
    "## Predictive analysis for Red Wine"
   ]
  },
  {
   "cell_type": "markdown",
   "metadata": {},
   "source": [
    "### Linear Regression"
   ]
  },
  {
   "cell_type": "code",
   "execution_count": 80,
   "metadata": {},
   "outputs": [],
   "source": [
    "from sklearn.model_selection import train_test_split\n",
    "from sklearn.linear_model import LinearRegression\n",
    "from sklearn import metrics"
   ]
  },
  {
   "cell_type": "code",
   "execution_count": 81,
   "metadata": {},
   "outputs": [
    {
     "name": "stdout",
     "output_type": "stream",
     "text": [
      "fixed_acidity           0.119024\n",
      "volatile_acidity       -0.395214\n",
      "citric_acid             0.228057\n",
      "residual_sugar          0.013640\n",
      "chlorides              -0.130988\n",
      "free_sulfur-dioxide    -0.050463\n",
      "total_sulfur_dioxide   -0.177855\n",
      "density                -0.184252\n",
      "pH                     -0.055245\n",
      "sulphates               0.248835\n",
      "alcohol                 0.480343\n",
      "Name: quality, dtype: float64\n"
     ]
    }
   ],
   "source": [
    "correlations=df_red.corr()['quality'].drop('quality')\n",
    "print(correlations)"
   ]
  },
  {
   "cell_type": "code",
   "execution_count": 82,
   "metadata": {},
   "outputs": [],
   "source": [
    "def get_features(correlation_threshold):\n",
    "    max_corrs=correlations.abs()\n",
    "    high_correlations=max_corrs\n",
    "    high_correlations=max_corrs[max_corrs>correlation_threshold].index.values.tolist()\n",
    "    \n",
    "    return high_correlations"
   ]
  },
  {
   "cell_type": "code",
   "execution_count": 83,
   "metadata": {},
   "outputs": [
    {
     "name": "stdout",
     "output_type": "stream",
     "text": [
      "['fixed_acidity', 'volatile_acidity', 'citric_acid', 'chlorides', 'total_sulfur_dioxide', 'density', 'sulphates', 'alcohol']\n"
     ]
    }
   ],
   "source": [
    "features=get_features(0.1)\n",
    "print(features)"
   ]
  },
  {
   "cell_type": "markdown",
   "metadata": {},
   "source": [
    "## Train and test sets"
   ]
  },
  {
   "cell_type": "code",
   "execution_count": 84,
   "metadata": {},
   "outputs": [],
   "source": [
    "X=df_red[features]\n",
    "y=df_red['quality']"
   ]
  },
  {
   "cell_type": "code",
   "execution_count": 85,
   "metadata": {},
   "outputs": [
    {
     "data": {
      "text/html": [
       "<div>\n",
       "<style scoped>\n",
       "    .dataframe tbody tr th:only-of-type {\n",
       "        vertical-align: middle;\n",
       "    }\n",
       "\n",
       "    .dataframe tbody tr th {\n",
       "        vertical-align: top;\n",
       "    }\n",
       "\n",
       "    .dataframe thead th {\n",
       "        text-align: right;\n",
       "    }\n",
       "</style>\n",
       "<table border=\"1\" class=\"dataframe\">\n",
       "  <thead>\n",
       "    <tr style=\"text-align: right;\">\n",
       "      <th></th>\n",
       "      <th>fixed_acidity</th>\n",
       "      <th>volatile_acidity</th>\n",
       "      <th>citric_acid</th>\n",
       "      <th>chlorides</th>\n",
       "      <th>total_sulfur_dioxide</th>\n",
       "      <th>density</th>\n",
       "      <th>sulphates</th>\n",
       "      <th>alcohol</th>\n",
       "    </tr>\n",
       "  </thead>\n",
       "  <tbody>\n",
       "    <tr>\n",
       "      <th>0</th>\n",
       "      <td>7.4</td>\n",
       "      <td>0.70</td>\n",
       "      <td>0.00</td>\n",
       "      <td>0.076</td>\n",
       "      <td>34.0</td>\n",
       "      <td>0.9978</td>\n",
       "      <td>0.56</td>\n",
       "      <td>9.4</td>\n",
       "    </tr>\n",
       "    <tr>\n",
       "      <th>1</th>\n",
       "      <td>7.8</td>\n",
       "      <td>0.88</td>\n",
       "      <td>0.00</td>\n",
       "      <td>0.098</td>\n",
       "      <td>67.0</td>\n",
       "      <td>0.9968</td>\n",
       "      <td>0.68</td>\n",
       "      <td>9.8</td>\n",
       "    </tr>\n",
       "    <tr>\n",
       "      <th>2</th>\n",
       "      <td>7.8</td>\n",
       "      <td>0.76</td>\n",
       "      <td>0.04</td>\n",
       "      <td>0.092</td>\n",
       "      <td>54.0</td>\n",
       "      <td>0.9970</td>\n",
       "      <td>0.65</td>\n",
       "      <td>9.8</td>\n",
       "    </tr>\n",
       "    <tr>\n",
       "      <th>3</th>\n",
       "      <td>11.2</td>\n",
       "      <td>0.28</td>\n",
       "      <td>0.56</td>\n",
       "      <td>0.075</td>\n",
       "      <td>60.0</td>\n",
       "      <td>0.9980</td>\n",
       "      <td>0.58</td>\n",
       "      <td>9.8</td>\n",
       "    </tr>\n",
       "    <tr>\n",
       "      <th>5</th>\n",
       "      <td>7.4</td>\n",
       "      <td>0.66</td>\n",
       "      <td>0.00</td>\n",
       "      <td>0.075</td>\n",
       "      <td>40.0</td>\n",
       "      <td>0.9978</td>\n",
       "      <td>0.56</td>\n",
       "      <td>9.4</td>\n",
       "    </tr>\n",
       "  </tbody>\n",
       "</table>\n",
       "</div>"
      ],
      "text/plain": [
       "   fixed_acidity  volatile_acidity  citric_acid  chlorides  \\\n",
       "0            7.4              0.70         0.00      0.076   \n",
       "1            7.8              0.88         0.00      0.098   \n",
       "2            7.8              0.76         0.04      0.092   \n",
       "3           11.2              0.28         0.56      0.075   \n",
       "5            7.4              0.66         0.00      0.075   \n",
       "\n",
       "   total_sulfur_dioxide  density  sulphates  alcohol  \n",
       "0                  34.0   0.9978       0.56      9.4  \n",
       "1                  67.0   0.9968       0.68      9.8  \n",
       "2                  54.0   0.9970       0.65      9.8  \n",
       "3                  60.0   0.9980       0.58      9.8  \n",
       "5                  40.0   0.9978       0.56      9.4  "
      ]
     },
     "execution_count": 85,
     "metadata": {},
     "output_type": "execute_result"
    }
   ],
   "source": [
    "X.head()"
   ]
  },
  {
   "cell_type": "code",
   "execution_count": 86,
   "metadata": {},
   "outputs": [
    {
     "data": {
      "text/plain": [
       "0    5\n",
       "1    5\n",
       "2    5\n",
       "3    6\n",
       "5    5\n",
       "Name: quality, dtype: int64"
      ]
     },
     "execution_count": 86,
     "metadata": {},
     "output_type": "execute_result"
    }
   ],
   "source": [
    "y.head()"
   ]
  },
  {
   "cell_type": "code",
   "execution_count": 69,
   "metadata": {},
   "outputs": [],
   "source": [
    "X_train, X_test, y_train, y_test = train_test_split(X, y, test_size=0.3,random_state=0)"
   ]
  },
  {
   "cell_type": "code",
   "execution_count": 72,
   "metadata": {},
   "outputs": [
    {
     "name": "stdout",
     "output_type": "stream",
     "text": [
      "[-1.16869503 -0.13521265  0.75803443  0.34358422]\n"
     ]
    }
   ],
   "source": [
    "lr = LinearRegression()\n",
    "lr.fit(X_train, y_train)\n",
    "\n",
    "print(lr.coef_)"
   ]
  },
  {
   "cell_type": "code",
   "execution_count": 73,
   "metadata": {},
   "outputs": [
    {
     "data": {
      "text/plain": [
       "0.3741343020597422"
      ]
     },
     "execution_count": 73,
     "metadata": {},
     "output_type": "execute_result"
    }
   ],
   "source": [
    "r_sq=lr.score(X_train, y_train)\n",
    "r_sq"
   ]
  },
  {
   "cell_type": "code",
   "execution_count": 75,
   "metadata": {},
   "outputs": [
    {
     "name": "stdout",
     "output_type": "stream",
     "text": [
      "[5.73305472 6.23203194 5.7082423  4.96733992 6.45651528 5.34200344\n",
      " 5.3153484  5.41854925 4.87117977 5.24657764 5.51413658 5.15277158\n",
      " 5.63232929 5.77788031 5.92244705 6.2633162  5.19632112 5.21239845\n",
      " 5.2914725  6.25506912 5.42330279 5.42595879 6.3444277  5.0854312\n",
      " 5.06750752 5.40281695 5.22273605 5.64223141 5.69010332 4.99043884\n",
      " 5.20281656 6.97206743 6.32065856 4.97309776 5.37214649 6.5083007\n",
      " 5.0524224  5.47208176 5.32616043 5.19026043 6.07907043 5.31096761\n",
      " 5.60055837 5.24104398 5.45032822 6.74145857 5.17759982 4.7528675\n",
      " 5.16797307 6.05417061 5.39152359 5.32895882 5.8807509  5.80851035\n",
      " 6.32757305 6.32034733 5.99122544 5.39379708 5.42326415 5.16979093\n",
      " 5.72153394 6.25458085 5.69248214 6.66776544 5.02193328 5.16264281\n",
      " 5.44685696 5.36909139 5.11253829 6.13375793 6.06161534 6.04014201\n",
      " 4.89295288 5.3937371  5.11253829 6.16838485 5.33725646 6.37874495\n",
      " 5.181658   5.36721596 6.13464721 5.1869311  5.86176312 5.74703878\n",
      " 5.5394525  5.2421405  5.95605703 4.93932148 5.06529951 5.91642805\n",
      " 6.74659384 4.70485216 5.19469    6.25030477 5.33401047 5.17775375\n",
      " 5.67494593 6.01977075 4.98853473 5.00731102 6.5044103  5.1982333\n",
      " 5.21346382 5.85273745 6.35494031 6.03901066 5.41096941 5.1227056\n",
      " 6.17630645 4.81225481 5.35850794 5.36725911 5.70235187 5.42941869\n",
      " 5.73567385 5.2028419  6.657514   5.40385339 5.11411513 5.73610225\n",
      " 5.608092   5.15628612 5.71987822 5.68921602 5.96474571 5.67314278\n",
      " 5.31697099 5.60680289 5.09699536 6.48604533 5.45255583 6.38306551\n",
      " 5.26286288 6.05762475 6.20261667 5.68628758 5.07054929 5.32707982\n",
      " 5.31207732 6.01963019 5.62154073 6.37072309 5.29052495 6.07362054\n",
      " 5.31989527 4.8100626  5.88534768 6.48552701 5.62973157 6.42521376\n",
      " 6.09065719 5.83273129 5.93473624 6.43709203 5.33392658 5.53985661\n",
      " 5.45078857 5.23193374 5.82100844 5.57782539 5.07285498 5.28216932\n",
      " 5.73767711 5.45732646 5.37681086 5.06116803 5.97232302 6.46955436\n",
      " 5.86586015 5.39336011 5.73151245 5.99405249 4.9550201  5.3442393\n",
      " 5.38582121 5.12181132 5.47642395 7.20808176 6.1697111  6.31730128\n",
      " 5.8093556  4.80941063 5.8844918  6.15812961 6.30051278 5.04744085\n",
      " 6.14688645 5.58411565 5.04820429 4.972269   5.18484839 5.42350977\n",
      " 5.02487484 5.75107962 5.43193641 6.14363795 5.17586846 4.76155055\n",
      " 6.06468978 5.86709579 6.56036003 5.24068211 5.47941098 4.99591086\n",
      " 4.94517424 6.49925442 6.15440197 5.77722657 5.07914445 5.77037734\n",
      " 5.1883274  5.47902804 5.77295576 4.86289646 6.77495834 5.23067049\n",
      " 5.61464598 4.88266681 5.53825436 5.55408354 6.06077225 5.09763651\n",
      " 5.91136011 5.3549966  6.69686126 5.45592331 5.87648728 5.22887841\n",
      " 5.15467492 5.886574   6.182602   5.1803151  4.98000931 5.41746208\n",
      " 5.42570014 5.6051811  5.95518389 5.54603236 5.13258008 5.6193397\n",
      " 6.71233309 5.56221617 5.07841944 5.78839794 5.8318531  6.23833223\n",
      " 6.14195764 5.10129182 6.83437557 6.28702385 5.06418195 6.26909462\n",
      " 5.84581614 5.95616553 5.31122852 5.0432383  5.24086996 5.1261595\n",
      " 5.00865737 6.03988514 5.70472989 5.29092373 5.26145221 6.48741125\n",
      " 5.31711842 5.2165779  5.27552773 5.10525877 5.69304017 4.93512044\n",
      " 4.92809815 6.19011251 5.30188066 5.69086609 5.30379482 6.05809484\n",
      " 5.16058748 5.46277938 5.04216295 5.10406313 5.87016217 4.75988047\n",
      " 4.52472455 6.68552413 5.30709854 5.72383766 5.71303343 5.80578176\n",
      " 4.99777357 5.6376823  5.01825086 5.37225629 5.95090072 5.46008818\n",
      " 5.69935174 5.29539079 6.19524555 5.79027369 5.67466439 5.10721037\n",
      " 5.32148948 5.1370968  5.9471693  4.94593244 5.89551275 5.24521818\n",
      " 5.16847774 5.49018334 5.56103446 6.19931822 5.31334103 5.18021464\n",
      " 6.14051282 4.93683246 5.1197394  5.30706488 5.09758879 4.97852009\n",
      " 5.2520815  5.33373249 5.16353533 5.11183809 5.47731301 6.10525527\n",
      " 6.32004474 5.89347476 6.3657814  5.91938514 5.4916419  5.69018748\n",
      " 6.69457265 5.5105126  6.02081096 5.23870266 5.63245866 6.06843775\n",
      " 6.06518852 5.73312294 5.71424276 6.50624712 5.00853731 6.24085395\n",
      " 6.5579883  6.58264854 5.26324131 5.82223774 6.36579429 6.42013043\n",
      " 5.1703595  5.54935866 5.46914148 5.73947553 5.34453241 5.57124963\n",
      " 5.91108554 5.1772294  5.13795873 6.16487341 6.19980725 5.83217954\n",
      " 5.65670076 5.42062415 6.54405169 6.19580608 6.12566728 4.73603797\n",
      " 5.592362   5.24032776 5.26940507 5.18586326 5.54321183 5.87042358\n",
      " 5.87698656 5.87769804 4.59459916 4.99385881 5.27175995 5.36663753\n",
      " 5.94803524 5.72930471 6.61970994 4.45807659 5.77759398 5.7190143\n",
      " 5.70671132 5.17433    5.1827595  5.06779481 4.367066   6.26410375\n",
      " 5.27492075 5.06892169 5.73559447 5.57414046 5.41655094 6.34532832\n",
      " 5.1834433  6.29421197 5.05723418 5.41749748 5.98751407 5.46197272\n",
      " 5.06852813 5.16572022 5.78292238 5.18964086 5.30929019 5.01019384\n",
      " 5.25471592 5.03176331 6.65479694 6.83487278 6.28561841 5.85863165\n",
      " 5.45670712 6.23168414 5.67520127 5.62682614 5.70456105 5.48527429\n",
      " 6.68208128 5.79004488 5.33282866 5.6617285  4.75855228 5.02665893\n",
      " 4.97330368 5.42730266 5.47631497 6.11887299 6.43279331 5.03615721\n",
      " 5.75630132 5.58939355 6.40864491 6.0090805  5.63040364 5.35354923\n",
      " 6.18781615 6.2308501  5.45129009 5.04016613 5.77221386 6.05785404\n",
      " 6.69582359 5.33857492 4.94666827 5.96183422 5.13222071 6.51228024\n",
      " 5.82206799 5.26485088 5.19701422 5.52033264 5.19422411 5.51031824\n",
      " 5.29987256 5.01192269 5.93075193 6.09481626 5.44435338 5.68544246\n",
      " 5.95384151 6.29173851 5.84609031 5.69926759 5.07301394 5.87479288\n",
      " 4.95501232 5.49973005 5.15762055 6.04208456 4.82444045 6.44271827\n",
      " 5.62245407 5.96846504 5.40334862 5.75436301 6.33763186 5.55444898\n",
      " 6.10567471 5.42980424 5.63662104 4.9228619  5.49673349 5.75962054\n",
      " 5.32390494 6.2749949  6.06259575 5.30244897 5.67879006 5.28072728\n",
      " 5.24622724 5.81366058 4.95249768 5.34339748 5.95550304 5.40963335\n",
      " 5.22893061 5.21679764 6.41124844 5.08898005 6.18041806 5.03251623\n",
      " 5.42817009 5.13320793 5.82043458 6.0961229  6.66943522 5.21936881\n",
      " 5.74810968 5.69925506 5.82184248 5.31605914 5.12656959 4.95648423\n",
      " 5.16241926 5.16117915 5.3491016  5.35106117 5.12424431 5.37649544\n",
      " 5.24360964 4.93160202 6.19923826 5.99956869 5.13116089 5.78348898\n",
      " 6.17636851 5.72847732 5.56628464 5.02079889 5.38500927 4.99036878\n",
      " 5.9643577  5.473834   5.71115571 5.89285652 5.25696917 5.71733924\n",
      " 6.19496676 5.68881799 6.24100713 5.40419145 5.83487223 5.44514246\n",
      " 5.60024343 5.68786821 5.06200233 5.83965165 6.45845409 5.37366235\n",
      " 5.14969891 5.25961215 6.18620053 5.80355011 6.70115922 6.31734048\n",
      " 5.46769915 5.28692615 5.13136156 6.34509476 5.05302665 5.79930027\n",
      " 5.32552376 5.86123678 6.11142154 5.35474414 5.3455771  5.38180703\n",
      " 6.20920201 5.20598894 5.39308086 4.91078517 5.26275107 6.21693554\n",
      " 6.35139174 6.02055653 5.45402049 5.75089255 4.99626221 6.12258226\n",
      " 5.10420779 5.87579943 5.21698475 6.07404115 6.16591235 6.07362054\n",
      " 5.33910984 5.29394543 6.66008108 5.18964086 5.37325025 4.73925804\n",
      " 5.00568766 4.98763915 5.42590355 5.09177921 6.15031246 6.33174604\n",
      " 5.32983681 5.79050272 5.93439264 4.89237879 5.21199414 5.52158505\n",
      " 6.54721049 5.57448246 5.91639068 6.02686762 6.31403245 5.95160619\n",
      " 5.28211912 5.8389349  6.05227829 5.65923336 5.32304602 5.8483584\n",
      " 4.87270488 5.52799686 6.51943533 5.5922927  5.70131165 5.13795519\n",
      " 4.99939115 5.49451142 4.95366594 5.83013153 5.04442666 5.82519464\n",
      " 5.25942383 6.47917396 5.35629994 5.46268394 6.16899961 5.55824421\n",
      " 6.38028041 5.49157031 5.35954215 5.1298653  5.94381729 6.07853827\n",
      " 5.60291732 5.65103685 5.8921792  5.88289839 6.35082065 5.63067357\n",
      " 6.54450874 6.09084734 6.06873182 5.59728109 5.10890886 6.45463074\n",
      " 4.91922392 5.76275004 5.42897898 5.68737195 5.31016844 5.1257404\n",
      " 5.35117549 5.19620884 5.00563242 6.03870606 5.92534944 6.6789481\n",
      " 5.24476661 5.65203536 5.29916735 6.44255156 5.30055261 6.29696948\n",
      " 5.85205435 5.79194598 5.66179532 5.33366266 4.93007133 5.60009829\n",
      " 6.45133634 6.56608225 4.6541625  5.39228175 4.84848168 5.25361243\n",
      " 5.13442595 5.194361   4.96081939 5.72317444 6.15277787 5.65062923\n",
      " 5.92559653 5.36704265 5.56927566 6.53470079 6.28380982 5.49088972\n",
      " 5.77070829 5.26738812 6.38956947 7.07668444 5.25570117 5.44253014\n",
      " 5.67646504 6.02662304 5.2041438  5.04378765 5.6694113  5.07724585\n",
      " 4.95338695 5.67685807 5.73185902 5.12926329 5.26846324 6.50359059\n",
      " 6.18304999 5.72805303 5.15723637 5.56077211 5.26441287 5.7773381\n",
      " 4.79401591 5.03869219 5.29125577 5.37067762 6.07754754 5.85778381\n",
      " 5.20361944 6.01628875 5.85862537 5.32745575 5.88024633 5.31825355\n",
      " 5.64179524 5.21723615 5.63075218 5.63832427 6.59590962 6.25008506\n",
      " 5.0128142  5.2994632  5.40404153 5.90151625 5.8750192  5.2874804\n",
      " 6.24603641 6.18264945 5.41454984 6.03802871 5.53777414 5.71786968\n",
      " 5.11104901 5.31464523 5.18595817 5.40207538 5.09846176 5.26374633\n",
      " 5.95986104 5.27543356 6.13362909 5.89000103 5.84207138 5.79822873\n",
      " 5.27832492 6.07556229 5.09255727 6.13618267 6.08213181 4.98817206\n",
      " 5.3960862  5.05046229 6.41456623 6.02138178 5.69296784 5.03244667\n",
      " 5.24841314 5.76931973 5.56598472 6.03135975 6.49386104 5.56073173\n",
      " 5.16265159 5.08583227 6.48425096 5.28072227 4.79261105 5.34664219\n",
      " 6.11394694 5.72334445 5.84688899 5.08106321 5.93976856 5.01324893\n",
      " 5.05057155 5.44086387 6.28875745 5.46091194 6.74359424 5.92922726\n",
      " 6.35770939 4.86522528 5.3829969  4.97604964 5.61195856 5.39106427\n",
      " 6.78879098 5.23612922 4.78092277 5.18331746 5.2440024  5.78690461\n",
      " 5.04223776 5.85342682 4.69816714 5.34011059 5.21656658 6.18840427\n",
      " 6.57315676 5.64888408 6.02030567 6.42206018 5.52721398 5.85214378\n",
      " 5.15793095 6.17784372 5.16792798 6.65987266 5.75344627 5.25449147\n",
      " 5.12878314 4.9704252  5.72906263 5.77194313 6.33986852 7.12966046\n",
      " 5.31400458 6.26102734 5.98363378 4.99205188 5.23836865 5.98192729\n",
      " 5.19735532 5.18824956 5.80615561 5.41908521 5.64391579 6.5612983\n",
      " 5.22901503 5.33881924 6.00901552 6.3800101  5.12602519 5.72547682\n",
      " 5.70736405 5.8951928  6.10498133 6.06520813 6.46045517 5.94712887\n",
      " 5.29905859 6.15659341 5.6192458  5.56729818 5.42659876 5.3215749\n",
      " 6.13669021 5.64102495 6.32953871 6.23706756 6.96061462 4.91961221\n",
      " 5.37394715 6.1768517  6.13279532 4.92086939 5.42872037 5.79075966\n",
      " 7.06952497 5.65671886 5.29240648 5.06383915 5.22692378 5.50162244\n",
      " 6.41846091 5.06613105 5.43272623 5.07463302 4.39815542 6.81815783\n",
      " 6.13262331 5.63514311 6.14098245 5.05729572 4.97202793 6.04425943\n",
      " 5.78315146 5.1617367  5.21859959 5.28443809 5.23801126 5.1707553\n",
      " 6.32080517 5.31250294 5.39915536 6.57698235 5.46992806 5.67155502\n",
      " 6.5301871  7.0442334  5.21476796 4.53482808 5.649979   6.09946029\n",
      " 5.44035606 4.95403639 5.21318728 6.6845123  5.31172728 6.16800435\n",
      " 5.72776216 5.60518737 4.85374979 5.21592573 5.40101252 5.70014131\n",
      " 6.49549088 4.92705263 6.22400691 5.42415485 5.27267684 6.09181513\n",
      " 4.75097194 5.9024997  5.16804353 5.30896072 5.6263889  4.6592086\n",
      " 5.97016972 6.35926572 4.96439385 5.62198121 5.5456561  5.29184315\n",
      " 5.84943676 5.53395104 5.33870903 5.68567703 5.80289817 5.65508241\n",
      " 5.19123229 5.35438781 5.26839117]\n",
      "[5.98957997 5.24961208 5.4677971  6.36654215 6.39450106 5.78213005\n",
      " 5.82391914 5.67188099 5.15472765 6.01292953 5.5689881  6.23144536\n",
      " 5.64315515 4.70549108 6.59397735 5.6470541  5.91038561 5.63326053\n",
      " 5.13652492 5.73993013 5.7884135  4.94950863 6.02564013 6.22373734\n",
      " 5.72948457 7.44394715 6.43039345 5.93960429 5.0657621  4.7570592\n",
      " 5.36651999 4.99739183 5.25110082 5.67012331 6.93167041 6.3092322\n",
      " 5.201724   6.1431922  5.60058021 6.45257309 5.53167205 5.61272197\n",
      " 6.27637057 5.95981583 5.9508922  5.94550574 5.41322358 5.39877416\n",
      " 5.6205673  5.52248568 6.34944896 5.22495812 5.4777218  5.54837775\n",
      " 6.16300069 6.45985394 5.36562597 4.89719794 5.63778658 6.599247\n",
      " 5.15250191 5.49798767 6.22235864 4.90679537 5.44514927 5.06546953\n",
      " 5.36971781 5.59749278 5.38472245 5.57693187 5.33773508 6.19035209\n",
      " 5.33480253 5.19697007 6.11320153 5.40445888 5.70566385 5.24188633\n",
      " 5.94269909 6.00460228 5.08945419 5.34382668 6.39334606 6.1845398\n",
      " 5.96042989 6.36114141 5.17706791 5.82598344 5.71333085 6.0801016\n",
      " 6.35813831 6.63307275 4.80129012 5.43116218 5.07926403 5.65538654\n",
      " 6.45165628 5.37998298 5.30594956 6.05029553 6.31005799 5.73026731\n",
      " 6.36277733 6.05493732 5.75107962 4.80500294 5.40274665 5.18899995\n",
      " 5.99694556 5.40794647 5.31012924 5.52419413 5.38190118 5.78264861\n",
      " 4.8426382  5.37864693 5.93192323 6.02921853 4.81983185 5.70543509\n",
      " 5.19493736 5.50584673 4.93442941 5.6668997  6.39721937 5.25728659\n",
      " 6.13723945 6.16841948 5.09145852 5.29053524 6.23462365 6.47722737\n",
      " 6.1239633  5.92376092 5.49745275 6.50768868 6.23220697 5.96535046\n",
      " 6.07293611 6.01473439 5.84388508 5.23045275 5.21901363 5.05054894\n",
      " 5.02249104 5.32862784 5.78473789 5.34433171 5.39448896 6.34645062\n",
      " 5.3010878  5.385782   5.10754214 6.5204668  5.19243501 5.67426332\n",
      " 7.05146216 5.22579993 6.5474882  6.1866001  5.17705058 5.98462824\n",
      " 5.75577758 5.40439512 5.96961824 5.28757458 5.31217303 6.10715845\n",
      " 5.51723312 5.83725526 5.42585255 5.44708654 5.47191777 5.82814409\n",
      " 5.30884367 5.40658002 6.06914018 5.43191931 5.07806509 5.65116388\n",
      " 6.36654215 5.34960412 5.52073471 5.21051669 4.91025214 6.4655426\n",
      " 5.21722987 5.56910287 5.87258434 6.35141134 5.81822531 5.738031\n",
      " 6.22518268 4.99764827 5.31188547 6.42463686 6.28889539 5.40990408\n",
      " 5.65020004 5.68767034 5.06890987 5.79919982 5.96202463 5.09826938\n",
      " 4.87010889 5.47625015 5.08167544 5.66374038 5.91140953 5.84522666\n",
      " 5.40000623 6.40822977 4.94588221 5.60193638 5.6288114  5.32096559\n",
      " 5.77744958 6.19421454 6.61042812 5.77136379 5.17199339 5.96359172\n",
      " 5.27761698 5.01254424 6.36959777 5.81494302 5.12157371 5.14127371\n",
      " 4.90452574 5.32721868 5.77855085 6.72108123 5.25166413 6.87006051\n",
      " 6.15616368 5.16980776 5.62314873 5.28966981 5.23041184 5.4230343\n",
      " 5.43611204 6.00786079 5.61080654 5.44357861 6.58563504 5.54659012\n",
      " 6.38691821 5.23983151 5.71783325 5.37763134 5.3983643  5.07325355\n",
      " 5.98785463 4.93824864 5.65584942 5.55426991 5.24613032 5.89461873\n",
      " 5.98170051 5.49662903 5.73697672 5.49665194 5.54355032 5.92023978\n",
      " 5.45982503 4.83032012 7.00699266 5.47362648 5.51500471 4.60137082\n",
      " 5.14035882 5.90871359 5.23027522 6.57465733 6.07604522 6.05818001\n",
      " 5.392507   5.42726399 5.27068076 5.99015457 5.70470949 5.84073033\n",
      " 6.35021293 6.03685017 5.34016636 5.04858603 5.45350965 5.29446656\n",
      " 5.36382231 5.35782208 5.51186052 6.20478073 6.07427719 5.8716785\n",
      " 5.10811175 5.37085641 5.36575678 6.23712604 6.43317227 5.28330898\n",
      " 6.17529739 6.11892551 5.05241639 5.41134737 5.62246483 5.42743901\n",
      " 5.47376667 6.4326137  5.37599115 6.17881741 6.29879468 5.99992709\n",
      " 5.5147491  5.52562737 5.1589684  5.06134636 5.12243811 5.25125401\n",
      " 5.37499866 6.36242495 5.73864777 5.03905712 5.27332604 5.00443675\n",
      " 5.06690304 5.10565182 6.3014575  6.04101201 6.03580233 5.67452252\n",
      " 5.69348819 4.93193403 5.35367957 5.35020557 5.57198492 5.86291605\n",
      " 5.29730188 5.95678033 6.44291944 4.9257897  5.26916917 5.55605224\n",
      " 5.19117983 5.47637298 5.66348497 6.00686802 5.37671291 5.84643993\n",
      " 5.04386616 5.22358389 5.31083774 5.70697854 6.19834256 5.71400516\n",
      " 5.32308695 5.51643823 5.56289151 5.39035673 5.66970035 5.44155224\n",
      " 5.06363047 6.28622124 5.39345428 5.23231796 4.69531495 5.16332814\n",
      " 5.17699835 5.74123751 5.61527277 5.61731076 5.3830487  5.73844586\n",
      " 5.44157888 5.14814361 6.29352583 6.201311   5.06316434 4.98654369\n",
      " 4.7394512  5.86997926 5.31856573 5.62182195 5.91897305 5.53995482\n",
      " 5.25942383 5.46332863 5.6781092  6.04360947 5.32536279 6.09343297\n",
      " 5.13986758 5.54935014 5.22672814 6.94623486 5.78224983 5.38193207\n",
      " 5.43829847 5.33788327 6.10283985 5.35720604 5.39948734 6.38265566\n",
      " 5.18358266 5.06577996 6.50918216 6.4357374  5.23085735 5.51539604]\n"
     ]
    }
   ],
   "source": [
    "train_pred = lr.predict(X_train)\n",
    "test_pred = lr.predict(X_test)\n",
    "\n",
    "print(train_pred)\n",
    "print(test_pred)"
   ]
  },
  {
   "cell_type": "code",
   "execution_count": 76,
   "metadata": {},
   "outputs": [
    {
     "name": "stdout",
     "output_type": "stream",
     "text": [
      "0.6474251435254292\n",
      "0.715085845975987\n"
     ]
    }
   ],
   "source": [
    "rmse_train = metrics.mean_squared_error(train_pred, y_train) ** 0.5\n",
    "rmse_test = metrics.mean_squared_error(test_pred, y_test) ** 0.5\n",
    "\n",
    "print(rmse_train)\n",
    "print(rmse_test)"
   ]
  },
  {
   "cell_type": "code",
   "execution_count": 77,
   "metadata": {},
   "outputs": [
    {
     "name": "stdout",
     "output_type": "stream",
     "text": [
      "[6. 5. 5. 6. 6. 6. 6. 6. 5. 6. 6. 6. 6. 5. 7. 6. 6. 6. 5. 6. 6. 5. 6. 6.\n",
      " 6. 7. 6. 6. 5. 5. 5. 5. 5. 6. 7. 6. 5. 6. 6. 6. 6. 6. 6. 6. 6. 6. 5. 5.\n",
      " 6. 6. 6. 5. 5. 6. 6. 6. 5. 5. 6. 7. 5. 5. 6. 5. 5. 5. 5. 6. 5. 6. 5. 6.\n",
      " 5. 5. 6. 5. 6. 5. 6. 6. 5. 5. 6. 6. 6. 6. 5. 6. 6. 6. 6. 7. 5. 5. 5. 6.\n",
      " 6. 5. 5. 6. 6. 6. 6. 6. 6. 5. 5. 5. 6. 5. 5. 6. 5. 6. 5. 5. 6. 6. 5. 6.\n",
      " 5. 6. 5. 6. 6. 5. 6. 6. 5. 5. 6. 6. 6. 6. 5. 7. 6. 6. 6. 6. 6. 5. 5. 5.\n",
      " 5. 5. 6. 5. 5. 6. 5. 5. 5. 7. 5. 6. 7. 5. 7. 6. 5. 6. 6. 5. 6. 5. 5. 6.\n",
      " 6. 6. 5. 5. 5. 6. 5. 5. 6. 5. 5. 6. 6. 5. 6. 5. 5. 6. 5. 6. 6. 6. 6. 6.\n",
      " 6. 5. 5. 6. 6. 5. 6. 6. 5. 6. 6. 5. 5. 5. 5. 6. 6. 6. 5. 6. 5. 6. 6. 5.\n",
      " 6. 6. 7. 6. 5. 6. 5. 5. 6. 6. 5. 5. 5. 5. 6. 7. 5. 7. 6. 5. 6. 5. 5. 5.\n",
      " 5. 6. 6. 5. 7. 6. 6. 5. 6. 5. 5. 5. 6. 5. 6. 6. 5. 6. 6. 5. 6. 5. 6. 6.\n",
      " 5. 5. 7. 5. 6. 5. 5. 6. 5. 7. 6. 6. 5. 5. 5. 6. 6. 6. 6. 6. 5. 5. 5. 5.\n",
      " 5. 5. 6. 6. 6. 6. 5. 5. 5. 6. 6. 5. 6. 6. 5. 5. 6. 5. 5. 6. 5. 6. 6. 6.\n",
      " 6. 6. 5. 5. 5. 5. 5. 6. 6. 5. 5. 5. 5. 5. 6. 6. 6. 6. 6. 5. 5. 5. 6. 6.\n",
      " 5. 6. 6. 5. 5. 6. 5. 5. 6. 6. 5. 6. 5. 5. 5. 6. 6. 6. 5. 6. 6. 5. 6. 5.\n",
      " 5. 6. 5. 5. 5. 5. 5. 6. 6. 6. 5. 6. 5. 5. 6. 6. 5. 5. 5. 6. 5. 6. 6. 6.\n",
      " 5. 5. 6. 6. 5. 6. 5. 6. 5. 7. 6. 5. 5. 5. 6. 5. 5. 6. 5. 5. 7. 6. 5. 6.]\n"
     ]
    }
   ],
   "source": [
    "predicted_data = np.round_(test_pred)\n",
    "print(predicted_data)\n"
   ]
  },
  {
   "cell_type": "code",
   "execution_count": 78,
   "metadata": {},
   "outputs": [
    {
     "name": "stdout",
     "output_type": "stream",
     "text": [
      "Mean Absolute Error: 0.5600785121126653\n",
      "Mean Squared Error: 0.511347767115193\n",
      "Root Mean Squared Error: 0.715085845975987\n"
     ]
    }
   ],
   "source": [
    "print('Mean Absolute Error:', metrics.mean_absolute_error(test_pred, y_test))\n",
    "print('Mean Squared Error:', metrics.mean_squared_error(test_pred, y_test))\n",
    "print('Root Mean Squared Error:', np.sqrt(metrics.mean_squared_error(test_pred, y_test)))"
   ]
  },
  {
   "cell_type": "code",
   "execution_count": 79,
   "metadata": {},
   "outputs": [
    {
     "name": "stdout",
     "output_type": "stream",
     "text": [
      "                  Coefficient\n",
      "volatile_acidity    -1.168695\n",
      "citric_acid         -0.135213\n",
      "sulphates            0.758034\n",
      "alcohol              0.343584\n"
     ]
    }
   ],
   "source": [
    "coefficients = pd.DataFrame(lr.coef_, features) \n",
    "coefficients.columns = ['Coefficient']\n",
    "print(coefficients)\n"
   ]
  },
  {
   "cell_type": "code",
   "execution_count": null,
   "metadata": {},
   "outputs": [],
   "source": []
  }
 ],
 "metadata": {
  "kernelspec": {
   "display_name": "Python 3",
   "language": "python",
   "name": "python3"
  },
  "language_info": {
   "codemirror_mode": {
    "name": "ipython",
    "version": 3
   },
   "file_extension": ".py",
   "mimetype": "text/x-python",
   "name": "python",
   "nbconvert_exporter": "python",
   "pygments_lexer": "ipython3",
   "version": "3.8.5"
  }
 },
 "nbformat": 4,
 "nbformat_minor": 4
}
